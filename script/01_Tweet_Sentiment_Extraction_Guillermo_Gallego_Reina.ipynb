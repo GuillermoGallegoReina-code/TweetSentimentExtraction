{
 "cells": [
  {
   "cell_type": "markdown",
   "metadata": {
    "application/vnd.databricks.v1+cell": {
     "cellMetadata": {
      "byteLimit": 2048000,
      "rowLimit": 10000
     },
     "inputWidgets": {},
     "nuid": "312632a9-74c9-4f94-a703-659d2551eec6",
     "showTitle": false,
     "title": ""
    }
   },
   "source": [
    "##Bibliografia\n",
    "\n",
    "https://medium.com/trustyou-engineering/topic-modelling-with-pyspark-and-spark-nlp-a99d063f1a6e\n",
    "\n",
    "https://colab.research.google.com/github/JohnSnowLabs/spark-nlp-workshop/blob/master/tutorials/Certification_Trainings/Public/3.SparkNLP_Pretrained_Models.ipynb#scrollTo=qd-CX_39Iktn\n",
    "\n",
    "https://pythonspot.com/nltk-stop-words/\n",
    "\n",
    "https://monkeylearn.com/blog/text-cleaning/\n",
    "\n",
    "https://www.analyticsvidhya.com/blog/2021/06/twitter-sentiment-analysis-a-nlp-use-case-for-beginners/\n",
    "\n",
    "https://nlp.johnsnowlabs.com/docs/en/annotators#ngramgenerator\n",
    "\n",
    "https://nlp.johnsnowlabs.com/docs/en/transformers#finisher\n",
    "\n",
    "https://medium.com/spark-nlp/applying-context-aware-spell-checking-in-spark-nlp-3c29c46963bc\n",
    "\n",
    "https://www.linkedin.com/pulse/sentiment-analysis-pyspark-ricky-kim/\n",
    "\n",
    "https://towardsdatascience.com/logistic-regression-using-python-sklearn-numpy-mnist-handwriting-recognition-matplotlib-a6b31e2b166a\n",
    "\n",
    "https://python.hotexamples.com/es/examples/pyspark.ml.evaluation/MulticlassClassificationEvaluator/-/python-multiclassclassificationevaluator-class-examples.html?utm_content=cmp-true"
   ]
  },
  {
   "cell_type": "markdown",
   "metadata": {
    "application/vnd.databricks.v1+cell": {
     "cellMetadata": {
      "byteLimit": 2048000,
      "rowLimit": 10000
     },
     "inputWidgets": {},
     "nuid": "3aa63b53-edd3-4a31-bb83-05ddc3312a86",
     "showTitle": false,
     "title": ""
    }
   },
   "source": [
    "##Librerias"
   ]
  },
  {
   "cell_type": "code",
   "execution_count": 0,
   "metadata": {
    "application/vnd.databricks.v1+cell": {
     "cellMetadata": {
      "byteLimit": 2048000,
      "rowLimit": 10000
     },
     "inputWidgets": {},
     "nuid": "7db0d6c0-af94-47dd-aceb-ea51d5b3bbb6",
     "showTitle": false,
     "title": ""
    }
   },
   "outputs": [
    {
     "output_type": "stream",
     "name": "stdout",
     "output_type": "stream",
     "text": [
      "Collecting sparknlp\r\n  Downloading sparknlp-1.0.0-py3-none-any.whl (1.4 kB)\r\nRequirement already satisfied: numpy in /databricks/python3/lib/python3.9/site-packages (from sparknlp) (1.20.3)\r\nRequirement already satisfied: spark-nlp in /local_disk0/.ephemeral_nfs/cluster_libraries/python/lib/python3.9/site-packages (from sparknlp) (4.3.1)\r\nInstalling collected packages: sparknlp\r\nSuccessfully installed sparknlp-1.0.0\r\n\u001B[33mWARNING: You are using pip version 21.2.4; however, version 23.0.1 is available.\r\nYou should consider upgrading via the '/local_disk0/.ephemeral_nfs/envs/pythonEnv-e93ef15c-34b5-4e1b-8298-8c66d9d12298/bin/python -m pip install --upgrade pip' command.\u001B[0m\r\n"
     ]
    }
   ],
   "source": [
    "!pip install sparknlp"
   ]
  },
  {
   "cell_type": "code",
   "execution_count": 0,
   "metadata": {
    "application/vnd.databricks.v1+cell": {
     "cellMetadata": {
      "byteLimit": 2048000,
      "rowLimit": 10000
     },
     "inputWidgets": {},
     "nuid": "9600a28c-1d17-4129-aa5e-d7d1a0c3fd5d",
     "showTitle": false,
     "title": ""
    }
   },
   "outputs": [
    {
     "output_type": "display_data",
     "data": {
      "application/vnd.databricks.v1+bamboolib_hint": "{\"pd.DataFrames\": [], \"version\": \"0.0.1\"}",
      "text/plain": []
     },
     "metadata": {},
     "output_type": "display_data"
    },
    {
     "output_type": "stream",
     "name": "stdout",
     "output_type": "stream",
     "text": [
      "[nltk_data] Downloading package stopwords to /root/nltk_data...\n[nltk_data]   Unzipping corpora/stopwords.zip.\n"
     ]
    }
   ],
   "source": [
    "import pandas as pd\n",
    "import pyspark.sql.functions as F\n",
    "import numpy as np\n",
    "from keras_preprocessing.text import Tokenizer\n",
    "import seaborn as sns\n",
    "import matplotlib.pyplot as plt\n",
    "from pyspark.sql.functions import col, udf\n",
    "from pyspark.sql.types import StringType, IntegerType\n",
    "import re\n",
    "from pyspark.ml import Pipeline\n",
    "import nltk\n",
    "nltk.download('stopwords')\n",
    "import nltk\n",
    "from nltk.corpus import stopwords\n",
    "from sparknlp.annotator import Tokenizer, LemmatizerModel, DocumentAssembler, Stemmer, StopWordsCleaner, Normalizer, NorvigSweetingModel, BertEmbeddings, UniversalSentenceEncoder, WordEmbeddingsModel, SentenceEmbeddings, PerceptronModel, Chunker, NGramGenerator, ContextSpellCheckerModel\n",
    "from sparknlp.base import Finisher\n",
    "from pyspark.ml.feature import StringIndexer\n",
    "from pyspark.ml.feature import CountVectorizer, IDF\n",
    "from pyspark.ml.classification import LogisticRegression\n",
    "from pyspark.ml.evaluation import MulticlassClassificationEvaluator"
   ]
  },
  {
   "cell_type": "code",
   "execution_count": 0,
   "metadata": {
    "application/vnd.databricks.v1+cell": {
     "cellMetadata": {
      "byteLimit": 2048000,
      "rowLimit": 10000
     },
     "inputWidgets": {},
     "nuid": "f4063b9d-3256-47f2-b778-b45c676dfbd5",
     "showTitle": false,
     "title": ""
    }
   },
   "outputs": [
    {
     "output_type": "stream",
     "name": "stdout",
     "output_type": "stream",
     "text": [
      "Collecting en-core-web-lg==3.4.1\r\n  Downloading https://github.com/explosion/spacy-models/releases/download/en_core_web_lg-3.4.1/en_core_web_lg-3.4.1-py3-none-any.whl (587.7 MB)\r\n\u001B[?25l\r\u001B[K     |                                | 10 kB 21.3 MB/s eta 0:00:28\r\u001B[K     |                                | 20 kB 3.2 MB/s eta 0:03:02\r\u001B[K     |                                | 30 kB 3.1 MB/s eta 0:03:10\r\u001B[K     |                                | 40 kB 616 kB/s eta 0:15:54\r\u001B[K     |                                | 51 kB 682 kB/s eta 0:14:21\r\u001B[K     |                                | 61 kB 817 kB/s eta 0:11:59\r\u001B[K     |                                | 71 kB 820 kB/s eta 0:11:56\r\u001B[K     |                                | 81 kB 936 kB/s eta 0:10:28\r\u001B[K     |                                | 92 kB 887 kB/s eta 0:11:02\r\u001B[K     |                                | 102 kB 784 kB/s eta 0:12:29\r\u001B[K     |                                | 112 kB 784 kB/s eta 0:12:29\r\u001B[K     |                                | 122 kB 784 kB/s eta 0:12:29\r\u001B[K     |                                | 133 kB 784 kB/s eta 0:12:29\r\u001B[K     |                                | 143 kB 784 kB/s eta 0:12:29\r\u001B[K     |                                | 153 kB 784 kB/s eta 0:12:29\r\u001B[K     |                                | 163 kB 784 kB/s eta 0:12:29\r\u001B[K     |                                | 174 kB 784 kB/s eta 0:12:29\r\u001B[K     |                                | 184 kB 784 kB/s eta 0:12:29\r\u001B[K     |                                | 194 kB 784 kB/s eta 0:12:29\r\u001B[K     |                                | 204 kB 784 kB/s eta 0:12:29\r\u001B[K     |                                | 215 kB 784 kB/s eta 0:12:29\r\u001B[K     |                                | 225 kB 784 kB/s eta 0:12:29\r\u001B[K     |                                | 235 kB 784 kB/s eta 0:12:29\r\u001B[K     |                                | 245 kB 784 kB/s eta 0:12:29\r\u001B[K     |                                | 256 kB 784 kB/s eta 0:12:29\r\u001B[K     |                                | 266 kB 784 kB/s eta 0:12:29\r\u001B[K     |                                | 276 kB 784 kB/s eta 0:12:29\r\u001B[K     |                                | 286 kB 784 kB/s eta 0:12:29\r\u001B[K     |                                | 296 kB 784 kB/s eta 0:12:29\r\u001B[K     |                                | 307 kB 784 kB/s eta 0:12:29\r\u001B[K     |                                | 317 kB 784 kB/s eta 0:12:29\r\u001B[K     |                                | 327 kB 784 kB/s eta 0:12:29\r\u001B[K     |                                | 337 kB 784 kB/s eta 0:12:29\r\u001B[K     |                                | 348 kB 784 kB/s eta 0:12:29\r\u001B[K     |                                | 358 kB 784 kB/s eta 0:12:29\r\u001B[K     |                                | 368 kB 784 kB/s eta 0:12:29\r\u001B[K     |                                | 378 kB 784 kB/s eta 0:12:29\r\u001B[K     |                                | 389 kB 784 kB/s eta 0:12:29\r\u001B[K     |                                | 399 kB 784 kB/s eta 0:12:29\r\u001B[K     |                                | 409 kB 784 kB/s eta 0:12:29\r\u001B[K     |                                | 419 kB 784 kB/s eta 0:12:29\r\u001B[K     |                                | 430 kB 784 kB/s eta 0:12:29\r\u001B[K     |                                | 440 kB 784 kB/s eta 0:12:29\r\u001B[K     |                                | 450 kB 784 kB/s eta 0:12:29\r\u001B[K     |                                | 460 kB 784 kB/s eta 0:12:29\r\u001B[K     |                                | 471 kB 784 kB/s eta 0:12:29\r\u001B[K     |                                | 481 kB 784 kB/s eta 0:12:29\r\u001B[K     |                                | 491 kB 784 kB/s eta 0:12:29\r\u001B[K     |                                | 501 kB 784 kB/s eta 0:12:29\r\u001B[K     |                                | 512 kB 784 kB/s eta 0:12:29\r\u001B[K     |                                | 522 kB 784 kB/s eta 0:12:29\r\u001B[K     |                                | 532 kB 784 kB/s eta 0:12:29\r\u001B[K     |                                | 542 kB 784 kB/s eta 0:12:29\r\u001B[K     |                                | 552 kB 784 kB/s eta 0:12:29\r\u001B[K     |                                | 563 kB 784 kB/s eta 0:12:29\r\u001B[K     |                                | 573 kB 784 kB/s eta 0:12:29\r\u001B[K     |                                | 583 kB 784 kB/s eta 0:12:29\r\u001B[K     |                                | 593 kB 784 kB/s eta 0:12:29\r\u001B[K     |                                | 604 kB 784 kB/s eta 0:12:29\r\u001B[K     |                                | 614 kB 784 kB/s eta 0:12:29\r\u001B[K     |                                | 624 kB 784 kB/s eta 0:12:29\r\u001B[K     |                                | 634 kB 784 kB/s eta 0:12:29\r\u001B[K     |                                | 645 kB 784 kB/s eta 0:12:29\r\u001B[K     |                                | 655 kB 784 kB/s eta 0:12:29\r\u001B[K     |                                | 665 kB 784 kB/s eta 0:12:29\r\u001B[K     |                                | 675 kB 784 kB/s eta 0:12:29\r\u001B[K     |                                | 686 kB 784 kB/s eta 0:12:29\r\u001B[K     |                                | 696 kB 784 kB/s eta 0:12:29\r\u001B[K     |                                | 706 kB 784 kB/s eta 0:12:29\r\u001B[K     |                                | 716 kB 784 kB/s eta 0:12:29\r\u001B[K     |                                | 727 kB 784 kB/s eta 0:12:29\r\u001B[K     |                                | 737 kB 784 kB/s eta 0:12:29\r\u001B[K     |                                | 747 kB 784 kB/s eta 0:12:29\r\u001B[K     |                                | 757 kB 784 kB/s eta 0:12:28\r\u001B[K     |                                | 768 kB 784 kB/s eta 0:12:28\r\u001B[K     |                                | 778 kB 784 kB/s eta 0:12:28\r\u001B[K     |                                | 788 kB 784 kB/s eta 0:12:28\r\u001B[K     |                                | 798 kB 784 kB/s eta 0:12:28\r\u001B[K     |                                | 808 kB 784 kB/s eta 0:12:28\r\u001B[K     |                                | 819 kB 784 kB/s eta 0:12:28\r\u001B[K     |                                | 829 kB 784 kB/s eta 0:12:28\r\u001B[K     |                                | 839 kB 784 kB/s eta 0:12:28\r\u001B[K     |                                | 849 kB 784 kB/s eta 0:12:28\r\u001B[K     |                                | 860 kB 784 kB/s eta 0:12:28\r\u001B[K     |                                | 870 kB 784 kB/s eta 0:12:28\r\u001B[K     |                                | 880 kB 784 kB/s eta 0:12:28\r\u001B[K     |                                | 890 kB 784 kB/s eta 0:12:28\r\u001B[K     |                                | 901 kB 784 kB/s eta 0:12:28\r\u001B[K     |                                | 911 kB 784 kB/s eta 0:12:28\r\u001B[K     |                                | 921 kB 784 kB/s eta 0:12:28\r\u001B[K     |                                | 931 kB 784 kB/s eta 0:12:28\r\u001B[K     |                                | 942 kB 784 kB/s eta 0:12:28\r\u001B[K     |                                | 952 kB 784 kB/s eta 0:12:28\r\u001B[K     |                                | 962 kB 784 kB/s eta 0:12:28\r\u001B[K     |                                | 972 kB 784 kB/s eta 0:12:28\r\u001B[K     |                                | 983 kB 784 kB/s eta 0:12:28\r\u001B[K     |                                | 993 kB 784 kB/s eta 0:12:28\r\u001B[K     |                                | 1.0 MB 784 kB/s eta 0:12:28\r\u001B[K     |                                | 1.0 MB 784 kB/s eta 0:12:28\r\u001B[K     |                                | 1.0 MB 784 kB/s eta 0:12:28\r\u001B[K     |                                | 1.0 MB 784 kB/s eta 0:12:28\r\u001B[K     |                                | 1.0 MB 784 kB/s eta 0:12:28\r\u001B[K     |                                | 1.1 MB 784 kB/s eta 0:12:28\r\u001B[K     |                                | 1.1 MB 784 kB/s eta 0:12:28\r\u001B[K     |                                | 1.1 MB 784 kB/s eta 0:12:28\r\u001B[K     |                                | 1.1 MB 784 kB/s eta 0:12:28\r\u001B[K     |                                | 1.1 MB 784 kB/s eta 0:12:28\r\u001B[K     |                                | 1.1 MB 784 kB/s eta 0:12:28\r\u001B[K     |                                | 1.1 MB 784 kB/s eta 0:12:28\r\u001B[K     |                                | 1.1 MB 784 kB/s eta 0:12:28\r\u001B[K     |                                | 1.1 MB 784 kB/s eta 0:12:28\r\u001B[K     |                                | 1.1 MB 784 kB/s eta 0:12:28\r\u001B[K     |                                | 1.2 MB 784 kB/s eta 0:12:28\r\u001B[K     |                                | 1.2 MB 784 kB/s eta 0:12:28\r\u001B[K     |                                | 1.2 MB 784 kB/s eta 0:12:28\r\u001B[K     |                                | 1.2 MB 784 kB/s eta 0:12:28\r\u001B[K     |                                | 1.2 MB 784 kB/s eta 0:12:28\r\u001B[K     |                                | 1.2 MB 784 kB/s eta 0:12:28\r\u001B[K     |                                | 1.2 MB 784 kB/s eta 0:12:28\r\u001B[K     |                                | 1.2 MB 784 kB/s eta 0:12:28\r\u001B[K     |                                | 1.2 MB 784 kB/s eta 0:12:28\r\u001B[K     |                                | 1.2 MB 784 kB/s eta 0:12:28\r\u001B[K     |                                | 1.3 MB 784 kB/s eta 0:12:28\r\u001B[K     |                                | 1.3 MB 784 kB/s eta 0:12:28\r\u001B[K     |                                | 1.3 MB 784 kB/s eta 0:12:28\r\u001B[K     |                                | 1.3 MB 784 kB/s eta 0:12:28\r\u001B[K     |                                | 1.3 MB 784 kB/s eta 0:12:28\r\u001B[K     |                                | 1.3 MB 784 kB/s eta 0:12:28\r\u001B[K     |                                | 1.3 MB 784 kB/s eta 0:12:28\r\u001B[K     |                                | 1.3 MB 784 kB/s eta 0:12:28\r\u001B[K     |                                | 1.3 MB 784 kB/s eta 0:12:28\r\u001B[K     |                                | 1.4 MB 784 kB/s eta 0:12:28\r\u001B[K     |                                | 1.4 MB 784 kB/s eta 0:12:28\r\u001B[K     |                                | 1.4 MB 784 kB/s eta 0:12:28\r\u001B[K     |                                | 1.4 MB 784 kB/s eta 0:12:28\r\u001B[K     |                                | 1.4 MB 784 kB/s eta 0:12:28\r\u001B[K     |                                | 1.4 MB 784 kB/s eta 0:12:28\r\u001B[K     |                                | 1.4 MB 784 kB/s eta 0:12:28\r\u001B[K     |                                | 1.4 MB 784 kB/s eta 0:12:28\r\u001B[K     |                                | 1.4 MB 784 kB/s eta 0:12:28\r\u001B[K     |                                | 1.4 MB 784 kB/s eta 0:12:28\r\u001B[K     |                                | 1.5 MB 784 kB/s eta 0:12:28\r\u001B[K     |                                | 1.5 MB 784 kB/s eta 0:12:28\r\u001B[K     |                                | 1.5 MB 784 kB/s eta 0:12:28\r\u001B[K     |                                | 1.5 MB 784 kB/s eta 0:12:28\r\u001B[K     |                                | 1.5 MB 784 kB/s eta 0:12:28\r\u001B[K     |                                | 1.5 MB 784 kB/s eta 0:12:28\r\u001B[K     |                                | 1.5 MB 784 kB/s eta 0:12:28\r\u001B[K     |                                | 1.5 MB 784 kB/s eta 0:12:28\r\u001B[K     |                                | 1.5 MB 784 kB/s eta 0:12:28\r\u001B[K     |                                | 1.5 MB 784 kB/s eta 0:12:27\r\u001B[K     |                                | 1.6 MB 784 kB/s eta 0:12:27\r\u001B[K     |                                | 1.6 MB 784 kB/s eta 0:12:27\r\u001B[K     |                                | 1.6 MB 784 kB/s eta 0:12:27\r\u001B[K     |                                | 1.6 MB 784 kB/s eta 0:12:27\r\u001B[K     |                                | 1.6 MB 784 kB/s eta 0:12:27\r\u001B[K     |                                | 1.6 MB 784 kB/s eta 0:12:27\r\u001B[K     |                                | 1.6 MB 784 kB/s eta 0:12:27\r\u001B[K     |                                | 1.6 MB 784 kB/s eta 0:12:27\r\u001B[K     |                                | 1.6 MB 784 kB/s eta 0:12:27\r\u001B[K     |                                | 1.6 MB 784 kB/s eta 0:12:27\r\u001B[K     |                                | 1.7 MB 784 kB/s eta 0:12:27\r\u001B[K     |                                | 1.7 MB 784 kB/s eta 0:12:27\r\u001B[K     |                                | 1.7 MB 784 kB/s eta 0:12:27\r\u001B[K     |                                | 1.7 MB 784 kB/s eta 0:12:27\r\u001B[K     |                                | 1.7 MB 784 kB/s eta 0:12:27\r\u001B[K     |                                | 1.7 MB 784 kB/s eta 0:12:27\r\u001B[K     |                                | 1.7 MB 784 kB/s eta 0:12:27\r\u001B[K     |                                | 1.7 MB 784 kB/s eta 0:12:27\r\u001B[K     |                                | 1.7 MB 784 kB/s eta 0:12:27\r\u001B[K     |                                | 1.8 MB 784 kB/s eta 0:12:27\r\u001B[K     |                                | 1.8 MB 784 kB/s eta 0:12:27\r\u001B[K     |                                | 1.8 MB 784 kB/s eta 0:12:27\r\u001B[K     |                                | 1.8 MB 784 kB/s eta 0:12:27\r\u001B[K     |                                | 1.8 MB 784 kB/s eta 0:12:27\r\u001B[K     |                                | 1.8 MB 784 kB/s eta 0:12:27\r\u001B[K     |                                | 1.8 MB 784 kB/s eta 0:12:27\r\u001B[K     |                                | 1.8 MB 784 kB/s eta 0:12:27\r\u001B[K     |                                | 1.8 MB 784 kB/s eta 0:12:27\r\u001B[K     |                                | 1.8 MB 784 kB/s eta 0:12:27\r\u001B[K     |                                | 1.9 MB 784 kB/s eta 0:12:27\r\u001B[K     |                                | 1.9 MB 784 kB/s eta 0:12:27\r\u001B[K     |                                | 1.9 MB 784 kB/s eta 0:12:27\r\u001B[K     |                                | 1.9 MB 784 kB/s eta 0:12:27\r\u001B[K     |                                | 1.9 MB 784 kB/s eta 0:12:27\r\u001B[K     |                                | 1.9 MB 784 kB/s eta 0:12:27\r\u001B[K     |                                | 1.9 MB 784 kB/s eta 0:12:27\r\u001B[K     |                                | 1.9 MB 784 kB/s eta 0:12:27\r\u001B[K     |                                | 1.9 MB 784 kB/s eta 0:12:27\r\u001B[K     |                                | 1.9 MB 784 kB/s eta 0:12:27\r\u001B[K     |                                | 2.0 MB 784 kB/s eta 0:12:27\r\u001B[K     |                                | 2.0 MB 784 kB/s eta 0:12:27\r\u001B[K     |                                | 2.0 MB 784 kB/s eta 0:12:27\r\u001B[K     |                                | 2.0 MB 784 kB/s eta 0:12:27\r\u001B[K     |                                | 2.0 MB 784 kB/s eta 0:12:27\r\u001B[K     |                                | 2.0 MB 784 kB/s eta 0:12:27\r\u001B[K     |                                | 2.0 MB 784 kB/s eta 0:12:27\r\u001B[K     |                                | 2.0 MB 784 kB/s eta 0:12:27\r\u001B[K     |                                | 2.0 MB 784 kB/s eta 0:12:27\r\u001B[K     |▏                               | 2.0 MB 784 kB/s eta 0:12:27\r\u001B[K     |▏                               | 2.1 MB 784 kB/s eta 0:12:27\r\u001B[K     |▏                               | 2.1 MB 784 kB/s eta 0:12:27\r\u001B[K     |▏                               | 2.1 MB 784 kB/s eta 0:12:27\r\u001B[K     |▏                               | 2.1 MB 784 kB/s eta 0:12:27\r\u001B[K     |▏                               | 2.1 MB 784 kB/s eta 0:12:27\r\u001B[K     |▏                               | 2.1 MB 784 kB/s eta 0:12:27\r\u001B[K     |▏                               | 2.1 MB 784 kB/s eta 0:12:27\r\u001B[K     |▏                               | 2.1 MB 784 kB/s eta 0:12:27\r\u001B[K     |▏                               | 2.1 MB 784 kB/s eta 0:12:27\r\u001B[K     |▏                               | 2.2 MB 784 kB/s eta 0:12:27\r\u001B[K     |▏                               | 2.2 MB 784 kB/s eta 0:12:27\r\u001B[K     |▏                               | 2.2 MB 784 kB/s eta 0:12:27\r\u001B[K     |▏                               | 2.2 MB 784 kB/s eta 0:12:27\r\u001B[K     |▏                               | 2.2 MB 784 kB/s eta 0:12:27\r\u001B[K     |▏                               | 2.2 MB 784 kB/s eta 0:12:27\r\u001B[K     |▏                               | 2.2 MB 784 kB/s eta 0:12:27\r\u001B[K     |▏                               | 2.2 MB 784 kB/s eta 0:12:27\r\u001B[K     |▏                               | 2.2 MB 784 kB/s eta 0:12:27\r\u001B[K     |▏                               | 2.2 MB 784 kB/s eta 0:12:27\r\u001B[K     |▏                               | 2.3 MB 784 kB/s eta 0:12:27\r\u001B[K     |▏                               | 2.3 MB 784 kB/s eta 0:12:27\r\u001B[K     |▏                               | 2.3 MB 784 kB/s eta 0:12:27\r\u001B[K     |▏                               | 2.3 MB 784 kB/s eta 0:12:27\r\u001B[K     |▏                               | 2.3 MB 784 kB/s eta 0:12:27\r\u001B[K     |▏                               | 2.3 MB 784 kB/s eta 0:12:27\r\u001B[K     |▏                               | 2.3 MB 784 kB/s eta 0:12:27\r\u001B[K     |▏                               | 2.3 MB 784 kB/s eta 0:12:27\r\u001B[K     |▏                               | 2.3 MB 784 kB/s eta 0:12:26\r\u001B[K     |▏                               | 2.3 MB 784 kB/s eta 0:12:26\r\u001B[K     |▏                               | 2.4 MB 784 kB/s eta 0:12:26\r\u001B[K     |▏                               | 2.4 MB 784 kB/s eta 0:12:26\r\u001B[K     |▏                               | 2.4 MB 784 kB/s eta 0:12:26\r\u001B[K     |▏                               | 2.4 MB 784 kB/s eta 0:12:26\r\u001B[K     |▏                               | 2.4 MB 784 kB/s eta 0:12:26\r\u001B[K     |▏                               | 2.4 MB 784 kB/s eta 0:12:26\r\u001B[K     |▏                               | 2.4 MB 784 kB/s eta 0:12:26\r\u001B[K     |▏                               | 2.4 MB 784 kB/s eta 0:12:26\r\u001B[K     |▏                               | 2.4 MB 784 kB/s eta 0:12:26\r\u001B[K     |▏                               | 2.4 MB 784 kB/s eta 0:12:26\r\u001B[K     |▏                               | 2.5 MB 784 kB/s eta 0:12:26\r\u001B[K     |▏                               | 2.5 MB 784 kB/s eta 0:12:26\r\u001B[K     |▏                               | 2.5 MB 784 kB/s eta 0:12:26\r\u001B[K     |▏                               | 2.5 MB 784 kB/s eta 0:12:26\r\u001B[K     |▏                               | 2.5 MB 784 kB/s eta 0:12:26\r\u001B[K     |▏                               | 2.5 MB 784 kB/s eta 0:12:26\r\u001B[K     |▏                               | 2.5 MB 784 kB/s eta 0:12:26\r\u001B[K     |▏                               | 2.5 MB 784 kB/s eta 0:12:26\r\u001B[K     |▏                               | 2.5 MB 784 kB/s eta 0:12:26\r\u001B[K     |▏                               | 2.5 MB 784 kB/s eta 0:12:26\r\u001B[K     |▏                               | 2.6 MB 784 kB/s eta 0:12:26\r\u001B[K     |▏                               | 2.6 MB 784 kB/s eta 0:12:26\r\u001B[K     |▏                               | 2.6 MB 784 kB/s eta 0:12:26\r\u001B[K     |▏                               | 2.6 MB 784 kB/s eta 0:12:26\r\u001B[K     |▏                               | 2.6 MB 784 kB/s eta 0:12:26\r\u001B[K     |▏                               | 2.6 MB 784 kB/s eta 0:12:26\r\u001B[K     |▏                               | 2.6 MB 784 kB/s eta 0:12:26\r\u001B[K     |▏                               | 2.6 MB 784 kB/s eta 0:12:26\r\u001B[K     |▏                               | 2.6 MB 784 kB/s eta 0:12:26\r\u001B[K     |▏                               | 2.7 MB 784 kB/s eta 0:12:26\r\u001B[K     |▏                               | 2.7 MB 784 kB/s eta 0:12:26\r\u001B[K     |▏                               | 2.7 MB 784 kB/s eta 0:12:26\r\u001B[K     |▏                               | 2.7 MB 784 kB/s eta 0:12:26\r\u001B[K     |▏                               | 2.7 MB 784 kB/s eta 0:12:26\r\u001B[K     |▏                               | 2.7 MB 784 kB/s eta 0:12:26\r\u001B[K     |▏                               | 2.7 MB 784 kB/s eta 0:12:26\r\u001B[K     |▏                               | 2.7 MB 784 kB/s eta 0:12:26\r\u001B[K     |▏                               | 2.7 MB 784 kB/s eta 0:12:26\r\u001B[K     |▏                               | 2.7 MB 784 kB/s eta 0:12:26\r\u001B[K     |▏                               | 2.8 MB 784 kB/s eta 0:12:26\r\u001B[K     |▏                               | 2.8 MB 784 kB/s eta 0:12:26\r\u001B[K     |▏                               | 2.8 MB 784 kB/s eta 0:12:26\r\u001B[K     |▏                               | 2.8 MB 784 kB/s eta 0:12:26\r\u001B[K     |▏                               | 2.8 MB 784 kB/s eta 0:12:26\r\u001B[K     |▏                               | 2.8 MB 784 kB/s eta 0:12:26\r\u001B[K     |▏                               | 2.8 MB 784 kB/s eta 0:12:26\r\u001B[K     |▏                               | 2.8 MB 784 kB/s eta 0:12:26\r\u001B[K     |▏                               | 2.8 MB 784 kB/s eta 0:12:26\r\u001B[K     |▏                               | 2.8 MB 784 kB/s eta 0:12:26\r\u001B[K     |▏                               | 2.9 MB 784 kB/s eta 0:12:26\r\u001B[K     |▏                               | 2.9 MB 784 kB/s eta 0:12:26\r\u001B[K     |▏                               | 2.9 MB 784 kB/s eta 0:12:26\r\u001B[K     |▏                               | 2.9 MB 784 kB/s eta 0:12:26\r\u001B[K     |▏                               | 2.9 MB 784 kB/s eta 0:12:26\r\u001B[K     |▏                               | 2.9 MB 784 kB/s eta 0:12:26\r\u001B[K     |▏                               | 2.9 MB 784 kB/s eta 0:12:26\r\u001B[K     |▏                               | 2.9 MB 784 kB/s eta 0:12:26\r\u001B[K     |▏                               | 2.9 MB 784 kB/s eta 0:12:26\r\u001B[K     |▏                               | 2.9 MB 784 kB/s eta 0:12:26\r\u001B[K     |▏                               | 3.0 MB 784 kB/s eta 0:12:26\r\u001B[K     |▏                               | 3.0 MB 784 kB/s eta 0:12:26\r\u001B[K     |▏                               | 3.0 MB 784 kB/s eta 0:12:26\r\u001B[K     |▏                               | 3.0 MB 784 kB/s eta 0:12:26\r\u001B[K     |▏                               | 3.0 MB 784 kB/s eta 0:12:26\r\u001B[K     |▏                               | 3.0 MB 784 kB/s eta 0:12:26\r\u001B[K     |▏                               | 3.0 MB 784 kB/s eta 0:12:26\r\u001B[K     |▏                               | 3.0 MB 784 kB/s eta 0:12:26\r\u001B[K     |▏                               | 3.0 MB 784 kB/s eta 0:12:26\r\u001B[K     |▏                               | 3.1 MB 784 kB/s eta 0:12:26\r\u001B[K     |▏                               | 3.1 MB 784 kB/s eta 0:12:26\r\u001B[K     |▏                               | 3.1 MB 784 kB/s eta 0:12:26\r\u001B[K     |▏                               | 3.1 MB 784 kB/s eta 0:12:26\r\u001B[K     |▏                               | 3.1 MB 784 kB/s eta 0:12:26\r\u001B[K     |▏                               | 3.1 MB 784 kB/s eta 0:12:26\r\u001B[K     |▏                               | 3.1 MB 784 kB/s eta 0:12:25\r\u001B[K     |▏                               | 3.1 MB 784 kB/s eta 0:12:25\r\u001B[K     |▏                               | 3.1 MB 784 kB/s eta 0:12:25\r\u001B[K     |▏                               | 3.1 MB 784 kB/s eta 0:12:25\r\u001B[K     |▏                               | 3.2 MB 784 kB/s eta 0:12:25\r\u001B[K     |▏                               | 3.2 MB 784 kB/s eta 0:12:25\r\u001B[K     |▏                               | 3.2 MB 784 kB/s eta 0:12:25\r\u001B[K     |▏                               | 3.2 MB 784 kB/s eta 0:12:25\r\u001B[K     |▏                               | 3.2 MB 784 kB/s eta 0:12:25\r\u001B[K     |▏                               | 3.2 MB 784 kB/s eta 0:12:25\r\u001B[K     |▏                               | 3.2 MB 784 kB/s eta 0:12:25\r\u001B[K     |▏                               | 3.2 MB 784 kB/s eta 0:12:25\r\u001B[K     |▏                               | 3.2 MB 784 kB/s eta 0:12:25\r\u001B[K     |▏                               | 3.2 MB 784 kB/s eta 0:12:25\r\u001B[K     |▏                               | 3.3 MB 784 kB/s eta 0:12:25\r\u001B[K     |▏                               | 3.3 MB 784 kB/s eta 0:12:25\r\u001B[K     |▏                               | 3.3 MB 784 kB/s eta 0:12:25\r\u001B[K     |▏                               | 3.3 MB 784 kB/s eta 0:12:25\r\u001B[K     |▏                               | 3.3 MB 784 kB/s eta 0:12:25\r\u001B[K     |▏                               | 3.3 MB 784 kB/s eta 0:12:25\r\u001B[K     |▏                               | 3.3 MB 784 kB/s eta 0:12:25\r\u001B[K     |▏                               | 3.3 MB 784 kB/s eta 0:12:25\r\u001B[K     |▏                               | 3.3 MB 784 kB/s eta 0:12:25\r\u001B[K     |▏                               | 3.3 MB 784 kB/s eta 0:12:25\r\u001B[K     |▏                               | 3.4 MB 784 kB/s eta 0:12:25\r\u001B[K     |▏                               | 3.4 MB 784 kB/s eta 0:12:25\r\u001B[K     |▏                               | 3.4 MB 784 kB/s eta 0:12:25\r\u001B[K     |▏                               | 3.4 MB 784 kB/s eta 0:12:25\r\u001B[K     |▏                               | 3.4 MB 784 kB/s eta 0:12:25\r\u001B[K     |▏                               | 3.4 MB 784 kB/s eta 0:12:25\r\u001B[K     |▏                               | 3.4 MB 784 kB/s eta 0:12:25\r\u001B[K     |▏                               | 3.4 MB 784 kB/s eta 0:12:25\r\u001B[K     |▏                               | 3.4 MB 784 kB/s eta 0:12:25\r\u001B[K     |▏                               | 3.5 MB 784 kB/s eta 0:12:25\r\u001B[K     |▏                               | 3.5 MB 784 kB/s eta 0:12:25\r\u001B[K     |▏                               | 3.5 MB 784 kB/s eta 0:12:25\r\u001B[K     |▏                               | 3.5 MB 784 kB/s eta 0:12:25\r\u001B[K     |▏                               | 3.5 MB 784 kB/s eta 0:12:25\r\u001B[K     |▏                               | 3.5 MB 784 kB/s eta 0:12:25\r\u001B[K     |▏                               | 3.5 MB 784 kB/s eta 0:12:25\r\u001B[K     |▏                               | 3.5 MB 784 kB/s eta 0:12:25\r\u001B[K     |▏                               | 3.5 MB 784 kB/s eta 0:12:25\r\u001B[K     |▏                               | 3.5 MB 784 kB/s eta 0:12:25\r\u001B[K     |▏                               | 3.6 MB 784 kB/s eta 0:12:25\r\u001B[K     |▏                               | 3.6 MB 784 kB/s eta 0:12:25\r\u001B[K     |▏                               | 3.6 MB 784 kB/s eta 0:12:25\r\u001B[K     |▏                               | \n\n*** WARNING: max output size exceeded, skipping output. ***\n\n   |█████████████████████████▏      | 10.1 MB 21.6 MB/s eta 0:00:01\r\u001B[K     |█████████████████████████▎      | 10.1 MB 21.6 MB/s eta 0:00:01\r\u001B[K     |█████████████████████████▎      | 10.1 MB 21.6 MB/s eta 0:00:01\r\u001B[K     |█████████████████████████▎      | 10.1 MB 21.6 MB/s eta 0:00:01\r\u001B[K     |█████████████████████████▎      | 10.1 MB 21.6 MB/s eta 0:00:01\r\u001B[K     |█████████████████████████▍      | 10.1 MB 21.6 MB/s eta 0:00:01\r\u001B[K     |█████████████████████████▍      | 10.1 MB 21.6 MB/s eta 0:00:01\r\u001B[K     |█████████████████████████▍      | 10.2 MB 21.6 MB/s eta 0:00:01\r\u001B[K     |█████████████████████████▍      | 10.2 MB 21.6 MB/s eta 0:00:01\r\u001B[K     |█████████████████████████▍      | 10.2 MB 21.6 MB/s eta 0:00:01\r\u001B[K     |█████████████████████████▌      | 10.2 MB 21.6 MB/s eta 0:00:01\r\u001B[K     |█████████████████████████▌      | 10.2 MB 21.6 MB/s eta 0:00:01\r\u001B[K     |█████████████████████████▌      | 10.2 MB 21.6 MB/s eta 0:00:01\r\u001B[K     |█████████████████████████▌      | 10.2 MB 21.6 MB/s eta 0:00:01\r\u001B[K     |█████████████████████████▋      | 10.2 MB 21.6 MB/s eta 0:00:01\r\u001B[K     |█████████████████████████▋      | 10.2 MB 21.6 MB/s eta 0:00:01\r\u001B[K     |█████████████████████████▋      | 10.3 MB 21.6 MB/s eta 0:00:01\r\u001B[K     |█████████████████████████▋      | 10.3 MB 21.6 MB/s eta 0:00:01\r\u001B[K     |█████████████████████████▊      | 10.3 MB 21.6 MB/s eta 0:00:01\r\u001B[K     |█████████████████████████▊      | 10.3 MB 21.6 MB/s eta 0:00:01\r\u001B[K     |█████████████████████████▊      | 10.3 MB 21.6 MB/s eta 0:00:01\r\u001B[K     |█████████████████████████▊      | 10.3 MB 21.6 MB/s eta 0:00:01\r\u001B[K     |█████████████████████████▊      | 10.3 MB 21.6 MB/s eta 0:00:01\r\u001B[K     |█████████████████████████▉      | 10.3 MB 21.6 MB/s eta 0:00:01\r\u001B[K     |█████████████████████████▉      | 10.3 MB 21.6 MB/s eta 0:00:01\r\u001B[K     |█████████████████████████▉      | 10.3 MB 21.6 MB/s eta 0:00:01\r\u001B[K     |█████████████████████████▉      | 10.4 MB 21.6 MB/s eta 0:00:01\r\u001B[K     |██████████████████████████      | 10.4 MB 21.6 MB/s eta 0:00:01\r\u001B[K     |██████████████████████████      | 10.4 MB 21.6 MB/s eta 0:00:01\r\u001B[K     |██████████████████████████      | 10.4 MB 21.6 MB/s eta 0:00:01\r\u001B[K     |██████████████████████████      | 10.4 MB 21.6 MB/s eta 0:00:01\r\u001B[K     |██████████████████████████      | 10.4 MB 21.6 MB/s eta 0:00:01\r\u001B[K     |██████████████████████████      | 10.4 MB 21.6 MB/s eta 0:00:01\r\u001B[K     |██████████████████████████      | 10.4 MB 21.6 MB/s eta 0:00:01\r\u001B[K     |██████████████████████████      | 10.4 MB 21.6 MB/s eta 0:00:01\r\u001B[K     |██████████████████████████      | 10.4 MB 21.6 MB/s eta 0:00:01\r\u001B[K     |██████████████████████████▏     | 10.5 MB 21.6 MB/s eta 0:00:01\r\u001B[K     |██████████████████████████▏     | 10.5 MB 21.6 MB/s eta 0:00:01\r\u001B[K     |██████████████████████████▏     | 10.5 MB 21.6 MB/s eta 0:00:01\r\u001B[K     |██████████████████████████▏     | 10.5 MB 21.6 MB/s eta 0:00:01\r\u001B[K     |██████████████████████████▎     | 10.5 MB 21.6 MB/s eta 0:00:01\r\u001B[K     |██████████████████████████▎     | 10.5 MB 21.6 MB/s eta 0:00:01\r\u001B[K     |██████████████████████████▎     | 10.5 MB 21.6 MB/s eta 0:00:01\r\u001B[K     |██████████████████████████▎     | 10.5 MB 21.6 MB/s eta 0:00:01\r\u001B[K     |██████████████████████████▍     | 10.5 MB 21.6 MB/s eta 0:00:01\r\u001B[K     |██████████████████████████▍     | 10.5 MB 21.6 MB/s eta 0:00:01\r\u001B[K     |██████████████████████████▍     | 10.6 MB 21.6 MB/s eta 0:00:01\r\u001B[K     |██████████████████████████▍     | 10.6 MB 21.6 MB/s eta 0:00:01\r\u001B[K     |██████████████████████████▍     | 10.6 MB 21.6 MB/s eta 0:00:01\r\u001B[K     |██████████████████████████▌     | 10.6 MB 21.6 MB/s eta 0:00:01\r\u001B[K     |██████████████████████████▌     | 10.6 MB 21.6 MB/s eta 0:00:01\r\u001B[K     |██████████████████████████▌     | 10.6 MB 21.6 MB/s eta 0:00:01\r\u001B[K     |██████████████████████████▌     | 10.6 MB 21.6 MB/s eta 0:00:01\r\u001B[K     |██████████████████████████▋     | 10.6 MB 21.6 MB/s eta 0:00:01\r\u001B[K     |██████████████████████████▋     | 10.6 MB 21.6 MB/s eta 0:00:01\r\u001B[K     |██████████████████████████▋     | 10.6 MB 21.6 MB/s eta 0:00:01\r\u001B[K     |██████████████████████████▋     | 10.7 MB 21.6 MB/s eta 0:00:01\r\u001B[K     |██████████████████████████▊     | 10.7 MB 21.6 MB/s eta 0:00:01\r\u001B[K     |██████████████████████████▊     | 10.7 MB 21.6 MB/s eta 0:00:01\r\u001B[K     |██████████████████████████▊     | 10.7 MB 21.6 MB/s eta 0:00:01\r\u001B[K     |██████████████████████████▊     | 10.7 MB 21.6 MB/s eta 0:00:01\r\u001B[K     |██████████████████████████▊     | 10.7 MB 21.6 MB/s eta 0:00:01\r\u001B[K     |██████████████████████████▉     | 10.7 MB 21.6 MB/s eta 0:00:01\r\u001B[K     |██████████████████████████▉     | 10.7 MB 21.6 MB/s eta 0:00:01\r\u001B[K     |██████████████████████████▉     | 10.7 MB 21.6 MB/s eta 0:00:01\r\u001B[K     |██████████████████████████▉     | 10.8 MB 21.6 MB/s eta 0:00:01\r\u001B[K     |███████████████████████████     | 10.8 MB 21.6 MB/s eta 0:00:01\r\u001B[K     |███████████████████████████     | 10.8 MB 21.6 MB/s eta 0:00:01\r\u001B[K     |███████████████████████████     | 10.8 MB 21.6 MB/s eta 0:00:01\r\u001B[K     |███████████████████████████     | 10.8 MB 21.6 MB/s eta 0:00:01\r\u001B[K     |███████████████████████████     | 10.8 MB 21.6 MB/s eta 0:00:01\r\u001B[K     |███████████████████████████     | 10.8 MB 21.6 MB/s eta 0:00:01\r\u001B[K     |███████████████████████████     | 10.8 MB 21.6 MB/s eta 0:00:01\r\u001B[K     |███████████████████████████     | 10.8 MB 21.6 MB/s eta 0:00:01\r\u001B[K     |███████████████████████████     | 10.8 MB 21.6 MB/s eta 0:00:01\r\u001B[K     |███████████████████████████▏    | 10.9 MB 21.6 MB/s eta 0:00:01\r\u001B[K     |███████████████████████████▏    | 10.9 MB 21.6 MB/s eta 0:00:01\r\u001B[K     |███████████████████████████▏    | 10.9 MB 21.6 MB/s eta 0:00:01\r\u001B[K     |███████████████████████████▏    | 10.9 MB 21.6 MB/s eta 0:00:01\r\u001B[K     |███████████████████████████▎    | 10.9 MB 21.6 MB/s eta 0:00:01\r\u001B[K     |███████████████████████████▎    | 10.9 MB 21.6 MB/s eta 0:00:01\r\u001B[K     |███████████████████████████▎    | 10.9 MB 21.6 MB/s eta 0:00:01\r\u001B[K     |███████████████████████████▎    | 10.9 MB 21.6 MB/s eta 0:00:01\r\u001B[K     |███████████████████████████▍    | 10.9 MB 21.6 MB/s eta 0:00:01\r\u001B[K     |███████████████████████████▍    | 10.9 MB 21.6 MB/s eta 0:00:01\r\u001B[K     |███████████████████████████▍    | 11.0 MB 21.6 MB/s eta 0:00:01\r\u001B[K     |███████████████████████████▍    | 11.0 MB 21.6 MB/s eta 0:00:01\r\u001B[K     |███████████████████████████▍    | 11.0 MB 21.6 MB/s eta 0:00:01\r\u001B[K     |███████████████████████████▌    | 11.0 MB 21.6 MB/s eta 0:00:01\r\u001B[K     |███████████████████████████▌    | 11.0 MB 21.6 MB/s eta 0:00:01\r\u001B[K     |███████████████████████████▌    | 11.0 MB 21.6 MB/s eta 0:00:01\r\u001B[K     |███████████████████████████▌    | 11.0 MB 21.6 MB/s eta 0:00:01\r\u001B[K     |███████████████████████████▋    | 11.0 MB 21.6 MB/s eta 0:00:01\r\u001B[K     |███████████████████████████▋    | 11.0 MB 21.6 MB/s eta 0:00:01\r\u001B[K     |███████████████████████████▋    | 11.0 MB 21.6 MB/s eta 0:00:01\r\u001B[K     |███████████████████████████▋    | 11.1 MB 21.6 MB/s eta 0:00:01\r\u001B[K     |███████████████████████████▊    | 11.1 MB 21.6 MB/s eta 0:00:01\r\u001B[K     |███████████████████████████▊    | 11.1 MB 21.6 MB/s eta 0:00:01\r\u001B[K     |███████████████████████████▊    | 11.1 MB 21.6 MB/s eta 0:00:01\r\u001B[K     |███████████████████████████▊    | 11.1 MB 21.6 MB/s eta 0:00:01\r\u001B[K     |███████████████████████████▊    | 11.1 MB 21.6 MB/s eta 0:00:01\r\u001B[K     |███████████████████████████▉    | 11.1 MB 21.6 MB/s eta 0:00:01\r\u001B[K     |███████████████████████████▉    | 11.1 MB 21.6 MB/s eta 0:00:01\r\u001B[K     |███████████████████████████▉    | 11.1 MB 21.6 MB/s eta 0:00:01\r\u001B[K     |███████████████████████████▉    | 11.2 MB 21.6 MB/s eta 0:00:01\r\u001B[K     |████████████████████████████    | 11.2 MB 21.6 MB/s eta 0:00:01\r\u001B[K     |████████████████████████████    | 11.2 MB 21.6 MB/s eta 0:00:01\r\u001B[K     |████████████████████████████    | 11.2 MB 21.6 MB/s eta 0:00:01\r\u001B[K     |████████████████████████████    | 11.2 MB 21.6 MB/s eta 0:00:01\r\u001B[K     |████████████████████████████    | 11.2 MB 21.6 MB/s eta 0:00:01\r\u001B[K     |████████████████████████████    | 11.2 MB 21.6 MB/s eta 0:00:01\r\u001B[K     |████████████████████████████    | 11.2 MB 21.6 MB/s eta 0:00:01\r\u001B[K     |████████████████████████████    | 11.2 MB 21.6 MB/s eta 0:00:01\r\u001B[K     |████████████████████████████    | 11.2 MB 21.6 MB/s eta 0:00:01\r\u001B[K     |████████████████████████████▏   | 11.3 MB 21.6 MB/s eta 0:00:01\r\u001B[K     |████████████████████████████▏   | 11.3 MB 21.6 MB/s eta 0:00:01\r\u001B[K     |████████████████████████████▏   | 11.3 MB 21.6 MB/s eta 0:00:01\r\u001B[K     |████████████████████████████▏   | 11.3 MB 21.6 MB/s eta 0:00:01\r\u001B[K     |████████████████████████████▎   | 11.3 MB 21.6 MB/s eta 0:00:01\r\u001B[K     |████████████████████████████▎   | 11.3 MB 21.6 MB/s eta 0:00:01\r\u001B[K     |████████████████████████████▎   | 11.3 MB 21.6 MB/s eta 0:00:01\r\u001B[K     |████████████████████████████▎   | 11.3 MB 21.6 MB/s eta 0:00:01\r\u001B[K     |████████████████████████████▎   | 11.3 MB 21.6 MB/s eta 0:00:01\r\u001B[K     |████████████████████████████▍   | 11.3 MB 21.6 MB/s eta 0:00:01\r\u001B[K     |████████████████████████████▍   | 11.4 MB 21.6 MB/s eta 0:00:01\r\u001B[K     |████████████████████████████▍   | 11.4 MB 21.6 MB/s eta 0:00:01\r\u001B[K     |████████████████████████████▍   | 11.4 MB 21.6 MB/s eta 0:00:01\r\u001B[K     |████████████████████████████▌   | 11.4 MB 21.6 MB/s eta 0:00:01\r\u001B[K     |████████████████████████████▌   | 11.4 MB 21.6 MB/s eta 0:00:01\r\u001B[K     |████████████████████████████▌   | 11.4 MB 21.6 MB/s eta 0:00:01\r\u001B[K     |████████████████████████████▌   | 11.4 MB 21.6 MB/s eta 0:00:01\r\u001B[K     |████████████████████████████▋   | 11.4 MB 21.6 MB/s eta 0:00:01\r\u001B[K     |████████████████████████████▋   | 11.4 MB 21.6 MB/s eta 0:00:01\r\u001B[K     |████████████████████████████▋   | 11.4 MB 21.6 MB/s eta 0:00:01\r\u001B[K     |████████████████████████████▋   | 11.5 MB 21.6 MB/s eta 0:00:01\r\u001B[K     |████████████████████████████▋   | 11.5 MB 21.6 MB/s eta 0:00:01\r\u001B[K     |████████████████████████████▊   | 11.5 MB 21.6 MB/s eta 0:00:01\r\u001B[K     |████████████████████████████▊   | 11.5 MB 21.6 MB/s eta 0:00:01\r\u001B[K     |████████████████████████████▊   | 11.5 MB 21.6 MB/s eta 0:00:01\r\u001B[K     |████████████████████████████▊   | 11.5 MB 21.6 MB/s eta 0:00:01\r\u001B[K     |████████████████████████████▉   | 11.5 MB 21.6 MB/s eta 0:00:01\r\u001B[K     |████████████████████████████▉   | 11.5 MB 21.6 MB/s eta 0:00:01\r\u001B[K     |████████████████████████████▉   | 11.5 MB 21.6 MB/s eta 0:00:01\r\u001B[K     |████████████████████████████▉   | 11.6 MB 21.6 MB/s eta 0:00:01\r\u001B[K     |█████████████████████████████   | 11.6 MB 21.6 MB/s eta 0:00:01\r\u001B[K     |█████████████████████████████   | 11.6 MB 21.6 MB/s eta 0:00:01\r\u001B[K     |█████████████████████████████   | 11.6 MB 21.6 MB/s eta 0:00:01\r\u001B[K     |█████████████████████████████   | 11.6 MB 21.6 MB/s eta 0:00:01\r\u001B[K     |█████████████████████████████   | 11.6 MB 21.6 MB/s eta 0:00:01\r\u001B[K     |█████████████████████████████   | 11.6 MB 21.6 MB/s eta 0:00:01\r\u001B[K     |█████████████████████████████   | 11.6 MB 21.6 MB/s eta 0:00:01\r\u001B[K     |█████████████████████████████   | 11.6 MB 21.6 MB/s eta 0:00:01\r\u001B[K     |█████████████████████████████   | 11.6 MB 21.6 MB/s eta 0:00:01\r\u001B[K     |█████████████████████████████▏  | 11.7 MB 21.6 MB/s eta 0:00:01\r\u001B[K     |█████████████████████████████▏  | 11.7 MB 21.6 MB/s eta 0:00:01\r\u001B[K     |█████████████████████████████▏  | 11.7 MB 21.6 MB/s eta 0:00:01\r\u001B[K     |█████████████████████████████▏  | 11.7 MB 21.6 MB/s eta 0:00:01\r\u001B[K     |█████████████████████████████▎  | 11.7 MB 21.6 MB/s eta 0:00:01\r\u001B[K     |█████████████████████████████▎  | 11.7 MB 21.6 MB/s eta 0:00:01\r\u001B[K     |█████████████████████████████▎  | 11.7 MB 21.6 MB/s eta 0:00:01\r\u001B[K     |█████████████████████████████▎  | 11.7 MB 21.6 MB/s eta 0:00:01\r\u001B[K     |█████████████████████████████▎  | 11.7 MB 21.6 MB/s eta 0:00:01\r\u001B[K     |█████████████████████████████▍  | 11.7 MB 21.6 MB/s eta 0:00:01\r\u001B[K     |█████████████████████████████▍  | 11.8 MB 21.6 MB/s eta 0:00:01\r\u001B[K     |█████████████████████████████▍  | 11.8 MB 21.6 MB/s eta 0:00:01\r\u001B[K     |█████████████████████████████▍  | 11.8 MB 21.6 MB/s eta 0:00:01\r\u001B[K     |█████████████████████████████▌  | 11.8 MB 21.6 MB/s eta 0:00:01\r\u001B[K     |█████████████████████████████▌  | 11.8 MB 21.6 MB/s eta 0:00:01\r\u001B[K     |█████████████████████████████▌  | 11.8 MB 21.6 MB/s eta 0:00:01\r\u001B[K     |█████████████████████████████▌  | 11.8 MB 21.6 MB/s eta 0:00:01\r\u001B[K     |█████████████████████████████▋  | 11.8 MB 21.6 MB/s eta 0:00:01\r\u001B[K     |█████████████████████████████▋  | 11.8 MB 21.6 MB/s eta 0:00:01\r\u001B[K     |█████████████████████████████▋  | 11.8 MB 21.6 MB/s eta 0:00:01\r\u001B[K     |█████████████████████████████▋  | 11.9 MB 21.6 MB/s eta 0:00:01\r\u001B[K     |█████████████████████████████▋  | 11.9 MB 21.6 MB/s eta 0:00:01\r\u001B[K     |█████████████████████████████▊  | 11.9 MB 21.6 MB/s eta 0:00:01\r\u001B[K     |█████████████████████████████▊  | 11.9 MB 21.6 MB/s eta 0:00:01\r\u001B[K     |█████████████████████████████▊  | 11.9 MB 21.6 MB/s eta 0:00:01\r\u001B[K     |█████████████████████████████▊  | 11.9 MB 21.6 MB/s eta 0:00:01\r\u001B[K     |█████████████████████████████▉  | 11.9 MB 21.6 MB/s eta 0:00:01\r\u001B[K     |█████████████████████████████▉  | 11.9 MB 21.6 MB/s eta 0:00:01\r\u001B[K     |█████████████████████████████▉  | 11.9 MB 21.6 MB/s eta 0:00:01\r\u001B[K     |█████████████████████████████▉  | 12.0 MB 21.6 MB/s eta 0:00:01\r\u001B[K     |██████████████████████████████  | 12.0 MB 21.6 MB/s eta 0:00:01\r\u001B[K     |██████████████████████████████  | 12.0 MB 21.6 MB/s eta 0:00:01\r\u001B[K     |██████████████████████████████  | 12.0 MB 21.6 MB/s eta 0:00:01\r\u001B[K     |██████████████████████████████  | 12.0 MB 21.6 MB/s eta 0:00:01\r\u001B[K     |██████████████████████████████  | 12.0 MB 21.6 MB/s eta 0:00:01\r\u001B[K     |██████████████████████████████  | 12.0 MB 21.6 MB/s eta 0:00:01\r\u001B[K     |██████████████████████████████  | 12.0 MB 21.6 MB/s eta 0:00:01\r\u001B[K     |██████████████████████████████  | 12.0 MB 21.6 MB/s eta 0:00:01\r\u001B[K     |██████████████████████████████  | 12.0 MB 21.6 MB/s eta 0:00:01\r\u001B[K     |██████████████████████████████▏ | 12.1 MB 21.6 MB/s eta 0:00:01\r\u001B[K     |██████████████████████████████▏ | 12.1 MB 21.6 MB/s eta 0:00:01\r\u001B[K     |██████████████████████████████▏ | 12.1 MB 21.6 MB/s eta 0:00:01\r\u001B[K     |██████████████████████████████▏ | 12.1 MB 21.6 MB/s eta 0:00:01\r\u001B[K     |██████████████████████████████▎ | 12.1 MB 21.6 MB/s eta 0:00:01\r\u001B[K     |██████████████████████████████▎ | 12.1 MB 21.6 MB/s eta 0:00:01\r\u001B[K     |██████████████████████████████▎ | 12.1 MB 21.6 MB/s eta 0:00:01\r\u001B[K     |██████████████████████████████▎ | 12.1 MB 21.6 MB/s eta 0:00:01\r\u001B[K     |██████████████████████████████▎ | 12.1 MB 21.6 MB/s eta 0:00:01\r\u001B[K     |██████████████████████████████▍ | 12.1 MB 21.6 MB/s eta 0:00:01\r\u001B[K     |██████████████████████████████▍ | 12.2 MB 21.6 MB/s eta 0:00:01\r\u001B[K     |██████████████████████████████▍ | 12.2 MB 21.6 MB/s eta 0:00:01\r\u001B[K     |██████████████████████████████▍ | 12.2 MB 21.6 MB/s eta 0:00:01\r\u001B[K     |██████████████████████████████▌ | 12.2 MB 21.6 MB/s eta 0:00:01\r\u001B[K     |██████████████████████████████▌ | 12.2 MB 21.6 MB/s eta 0:00:01\r\u001B[K     |██████████████████████████████▌ | 12.2 MB 21.6 MB/s eta 0:00:01\r\u001B[K     |██████████████████████████████▌ | 12.2 MB 21.6 MB/s eta 0:00:01\r\u001B[K     |██████████████████████████████▋ | 12.2 MB 21.6 MB/s eta 0:00:01\r\u001B[K     |██████████████████████████████▋ | 12.2 MB 21.6 MB/s eta 0:00:01\r\u001B[K     |██████████████████████████████▋ | 12.2 MB 21.6 MB/s eta 0:00:01\r\u001B[K     |██████████████████████████████▋ | 12.3 MB 21.6 MB/s eta 0:00:01\r\u001B[K     |██████████████████████████████▋ | 12.3 MB 21.6 MB/s eta 0:00:01\r\u001B[K     |██████████████████████████████▊ | 12.3 MB 21.6 MB/s eta 0:00:01\r\u001B[K     |██████████████████████████████▊ | 12.3 MB 21.6 MB/s eta 0:00:01\r\u001B[K     |██████████████████████████████▊ | 12.3 MB 21.6 MB/s eta 0:00:01\r\u001B[K     |██████████████████████████████▊ | 12.3 MB 21.6 MB/s eta 0:00:01\r\u001B[K     |██████████████████████████████▉ | 12.3 MB 21.6 MB/s eta 0:00:01\r\u001B[K     |██████████████████████████████▉ | 12.3 MB 21.6 MB/s eta 0:00:01\r\u001B[K     |██████████████████████████████▉ | 12.3 MB 21.6 MB/s eta 0:00:01\r\u001B[K     |██████████████████████████████▉ | 12.3 MB 21.6 MB/s eta 0:00:01\r\u001B[K     |███████████████████████████████ | 12.4 MB 21.6 MB/s eta 0:00:01\r\u001B[K     |███████████████████████████████ | 12.4 MB 21.6 MB/s eta 0:00:01\r\u001B[K     |███████████████████████████████ | 12.4 MB 21.6 MB/s eta 0:00:01\r\u001B[K     |███████████████████████████████ | 12.4 MB 21.6 MB/s eta 0:00:01\r\u001B[K     |███████████████████████████████ | 12.4 MB 21.6 MB/s eta 0:00:01\r\u001B[K     |███████████████████████████████ | 12.4 MB 21.6 MB/s eta 0:00:01\r\u001B[K     |███████████████████████████████ | 12.4 MB 21.6 MB/s eta 0:00:01\r\u001B[K     |███████████████████████████████ | 12.4 MB 21.6 MB/s eta 0:00:01\r\u001B[K     |███████████████████████████████ | 12.4 MB 21.6 MB/s eta 0:00:01\r\u001B[K     |███████████████████████████████▏| 12.5 MB 21.6 MB/s eta 0:00:01\r\u001B[K     |███████████████████████████████▏| 12.5 MB 21.6 MB/s eta 0:00:01\r\u001B[K     |███████████████████████████████▏| 12.5 MB 21.6 MB/s eta 0:00:01\r\u001B[K     |███████████████████████████████▏| 12.5 MB 21.6 MB/s eta 0:00:01\r\u001B[K     |███████████████████████████████▎| 12.5 MB 21.6 MB/s eta 0:00:01\r\u001B[K     |███████████████████████████████▎| 12.5 MB 21.6 MB/s eta 0:00:01\r\u001B[K     |███████████████████████████████▎| 12.5 MB 21.6 MB/s eta 0:00:01\r\u001B[K     |███████████████████████████████▎| 12.5 MB 21.6 MB/s eta 0:00:01\r\u001B[K     |███████████████████████████████▎| 12.5 MB 21.6 MB/s eta 0:00:01\r\u001B[K     |███████████████████████████████▍| 12.5 MB 21.6 MB/s eta 0:00:01\r\u001B[K     |███████████████████████████████▍| 12.6 MB 21.6 MB/s eta 0:00:01\r\u001B[K     |███████████████████████████████▍| 12.6 MB 21.6 MB/s eta 0:00:01\r\u001B[K     |███████████████████████████████▍| 12.6 MB 21.6 MB/s eta 0:00:01\r\u001B[K     |███████████████████████████████▌| 12.6 MB 21.6 MB/s eta 0:00:01\r\u001B[K     |███████████████████████████████▌| 12.6 MB 21.6 MB/s eta 0:00:01\r\u001B[K     |███████████████████████████████▌| 12.6 MB 21.6 MB/s eta 0:00:01\r\u001B[K     |███████████████████████████████▌| 12.6 MB 21.6 MB/s eta 0:00:01\r\u001B[K     |███████████████████████████████▋| 12.6 MB 21.6 MB/s eta 0:00:01\r\u001B[K     |███████████████████████████████▋| 12.6 MB 21.6 MB/s eta 0:00:01\r\u001B[K     |███████████████████████████████▋| 12.6 MB 21.6 MB/s eta 0:00:01\r\u001B[K     |███████████████████████████████▋| 12.7 MB 21.6 MB/s eta 0:00:01\r\u001B[K     |███████████████████████████████▋| 12.7 MB 21.6 MB/s eta 0:00:01\r\u001B[K     |███████████████████████████████▊| 12.7 MB 21.6 MB/s eta 0:00:01\r\u001B[K     |███████████████████████████████▊| 12.7 MB 21.6 MB/s eta 0:00:01\r\u001B[K     |███████████████████████████████▊| 12.7 MB 21.6 MB/s eta 0:00:01\r\u001B[K     |███████████████████████████████▊| 12.7 MB 21.6 MB/s eta 0:00:01\r\u001B[K     |███████████████████████████████▉| 12.7 MB 21.6 MB/s eta 0:00:01\r\u001B[K     |███████████████████████████████▉| 12.7 MB 21.6 MB/s eta 0:00:01\r\u001B[K     |███████████████████████████████▉| 12.7 MB 21.6 MB/s eta 0:00:01\r\u001B[K     |███████████████████████████████▉| 12.7 MB 21.6 MB/s eta 0:00:01\r\u001B[K     |████████████████████████████████| 12.8 MB 21.6 MB/s eta 0:00:01\r\u001B[K     |████████████████████████████████| 12.8 MB 21.6 MB/s eta 0:00:01\r\u001B[K     |████████████████████████████████| 12.8 MB 21.6 MB/s eta 0:00:01\r\u001B[K     |████████████████████████████████| 12.8 MB 21.6 MB/s eta 0:00:01\r\u001B[K     |████████████████████████████████| 12.8 MB 21.6 MB/s eta 0:00:01\r\u001B[K     |████████████████████████████████| 12.8 MB 21.6 MB/s \r\n\u001B[?25hRequirement already satisfied: spacy<3.5.0,>=3.4.0 in /databricks/python3/lib/python3.9/site-packages (from en-core-web-sm==3.4.1) (3.4.0)\r\nRequirement already satisfied: requests<3.0.0,>=2.13.0 in /databricks/python3/lib/python3.9/site-packages (from spacy<3.5.0,>=3.4.0->en-core-web-sm==3.4.1) (2.26.0)\r\nRequirement already satisfied: pydantic!=1.8,!=1.8.1,<1.10.0,>=1.7.4 in /databricks/python3/lib/python3.9/site-packages (from spacy<3.5.0,>=3.4.0->en-core-web-sm==3.4.1) (1.9.2)\r\nRequirement already satisfied: setuptools in /usr/local/lib/python3.9/dist-packages (from spacy<3.5.0,>=3.4.0->en-core-web-sm==3.4.1) (58.0.4)\r\nRequirement already satisfied: tqdm<5.0.0,>=4.38.0 in /databricks/python3/lib/python3.9/site-packages (from spacy<3.5.0,>=3.4.0->en-core-web-sm==3.4.1) (4.62.3)\r\nRequirement already satisfied: srsly<3.0.0,>=2.4.3 in /databricks/python3/lib/python3.9/site-packages (from spacy<3.5.0,>=3.4.0->en-core-web-sm==3.4.1) (2.4.4)\r\nRequirement already satisfied: wasabi<1.1.0,>=0.9.1 in /databricks/python3/lib/python3.9/site-packages (from spacy<3.5.0,>=3.4.0->en-core-web-sm==3.4.1) (0.10.1)\r\nRequirement already satisfied: preshed<3.1.0,>=3.0.2 in /databricks/python3/lib/python3.9/site-packages (from spacy<3.5.0,>=3.4.0->en-core-web-sm==3.4.1) (3.0.7)\r\nRequirement already satisfied: spacy-legacy<3.1.0,>=3.0.9 in /databricks/python3/lib/python3.9/site-packages (from spacy<3.5.0,>=3.4.0->en-core-web-sm==3.4.1) (3.0.10)\r\nRequirement already satisfied: pathy>=0.3.5 in /databricks/python3/lib/python3.9/site-packages (from spacy<3.5.0,>=3.4.0->en-core-web-sm==3.4.1) (0.6.2)\r\nRequirement already satisfied: murmurhash<1.1.0,>=0.28.0 in /databricks/python3/lib/python3.9/site-packages (from spacy<3.5.0,>=3.4.0->en-core-web-sm==3.4.1) (1.0.8)\r\nRequirement already satisfied: typer<0.5.0,>=0.3.0 in /databricks/python3/lib/python3.9/site-packages (from spacy<3.5.0,>=3.4.0->en-core-web-sm==3.4.1) (0.4.2)\r\nRequirement already satisfied: packaging>=20.0 in /databricks/python3/lib/python3.9/site-packages (from spacy<3.5.0,>=3.4.0->en-core-web-sm==3.4.1) (21.0)\r\nRequirement already satisfied: jinja2 in /databricks/python3/lib/python3.9/site-packages (from spacy<3.5.0,>=3.4.0->en-core-web-sm==3.4.1) (2.11.3)\r\nRequirement already satisfied: cymem<2.1.0,>=2.0.2 in /databricks/python3/lib/python3.9/site-packages (from spacy<3.5.0,>=3.4.0->en-core-web-sm==3.4.1) (2.0.6)\r\nRequirement already satisfied: thinc<8.2.0,>=8.1.0 in /databricks/python3/lib/python3.9/site-packages (from spacy<3.5.0,>=3.4.0->en-core-web-sm==3.4.1) (8.1.0)\r\nRequirement already satisfied: catalogue<2.1.0,>=2.0.6 in /databricks/python3/lib/python3.9/site-packages (from spacy<3.5.0,>=3.4.0->en-core-web-sm==3.4.1) (2.0.8)\r\nRequirement already satisfied: langcodes<4.0.0,>=3.2.0 in /databricks/python3/lib/python3.9/site-packages (from spacy<3.5.0,>=3.4.0->en-core-web-sm==3.4.1) (3.3.0)\r\nRequirement already satisfied: numpy>=1.15.0 in /databricks/python3/lib/python3.9/site-packages (from spacy<3.5.0,>=3.4.0->en-core-web-sm==3.4.1) (1.20.3)\r\nRequirement already satisfied: spacy-loggers<2.0.0,>=1.0.0 in /databricks/python3/lib/python3.9/site-packages (from spacy<3.5.0,>=3.4.0->en-core-web-sm==3.4.1) (1.0.3)\r\nRequirement already satisfied: pyparsing>=2.0.2 in /databricks/python3/lib/python3.9/site-packages (from packaging>=20.0->spacy<3.5.0,>=3.4.0->en-core-web-sm==3.4.1) (3.0.4)\r\nRequirement already satisfied: smart-open<6.0.0,>=5.2.1 in /databricks/python3/lib/python3.9/site-packages (from pathy>=0.3.5->spacy<3.5.0,>=3.4.0->en-core-web-sm==3.4.1) (5.2.1)\r\nRequirement already satisfied: typing-extensions>=3.7.4.3 in /databricks/python3/lib/python3.9/site-packages (from pydantic!=1.8,!=1.8.1,<1.10.0,>=1.7.4->spacy<3.5.0,>=3.4.0->en-core-web-sm==3.4.1) (4.5.0)\r\nRequirement already satisfied: idna<4,>=2.5 in /databricks/python3/lib/python3.9/site-packages (from requests<3.0.0,>=2.13.0->spacy<3.5.0,>=3.4.0->en-core-web-sm==3.4.1) (3.2)\r\nRequirement already satisfied: charset-normalizer~=2.0.0 in /databricks/python3/lib/python3.9/site-packages (from requests<3.0.0,>=2.13.0->spacy<3.5.0,>=3.4.0->en-core-web-sm==3.4.1) (2.0.4)\r\nRequirement already satisfied: urllib3<1.27,>=1.21.1 in /databricks/python3/lib/python3.9/site-packages (from requests<3.0.0,>=2.13.0->spacy<3.5.0,>=3.4.0->en-core-web-sm==3.4.1) (1.26.7)\r\nRequirement already satisfied: certifi>=2017.4.17 in /databricks/python3/lib/python3.9/site-packages (from requests<3.0.0,>=2.13.0->spacy<3.5.0,>=3.4.0->en-core-web-sm==3.4.1) (2021.10.8)\r\nRequirement already satisfied: blis<0.8.0,>=0.7.8 in /databricks/python3/lib/python3.9/site-packages (from thinc<8.2.0,>=8.1.0->spacy<3.5.0,>=3.4.0->en-core-web-sm==3.4.1) (0.7.8)\r\nRequirement already satisfied: click<9.0.0,>=7.1.1 in /databricks/python3/lib/python3.9/site-packages (from typer<0.5.0,>=0.3.0->spacy<3.5.0,>=3.4.0->en-core-web-sm==3.4.1) (8.0.3)\r\nRequirement already satisfied: MarkupSafe>=0.23 in /databricks/python3/lib/python3.9/site-packages (from jinja2->spacy<3.5.0,>=3.4.0->en-core-web-sm==3.4.1) (2.0.1)\r\nInstalling collected packages: en-core-web-sm\r\nSuccessfully installed en-core-web-sm-3.4.1\r\n\u001B[33mWARNING: You are using pip version 21.2.4; however, version 23.0.1 is available.\r\nYou should consider upgrading via the '/local_disk0/.ephemeral_nfs/envs/pythonEnv-e93ef15c-34b5-4e1b-8298-8c66d9d12298/bin/python -m pip install --upgrade pip' command.\u001B[0m\r\n\u001B[38;5;2m✔ Download and installation successful\u001B[0m\r\nYou can now load the package via spacy.load('en_core_web_sm')\r\n"
     ]
    }
   ],
   "source": [
    "!python -m spacy download en_core_web_lg\n",
    "!python -m spacy download en_core_web_sm"
   ]
  },
  {
   "cell_type": "markdown",
   "metadata": {
    "application/vnd.databricks.v1+cell": {
     "cellMetadata": {
      "byteLimit": 2048000,
      "rowLimit": 10000
     },
     "inputWidgets": {},
     "nuid": "d7c7a442-877c-4e3e-b0cb-94871194b767",
     "showTitle": false,
     "title": ""
    }
   },
   "source": [
    "##Ejemplo de Uso"
   ]
  },
  {
   "cell_type": "code",
   "execution_count": 0,
   "metadata": {
    "application/vnd.databricks.v1+cell": {
     "cellMetadata": {
      "byteLimit": 2048000,
      "rowLimit": 10000
     },
     "inputWidgets": {},
     "nuid": "7bf97a74-95c7-424c-bacc-61e3fab1d230",
     "showTitle": false,
     "title": ""
    }
   },
   "outputs": [
    {
     "output_type": "stream",
     "name": "stdout",
     "output_type": "stream",
     "text": [
      "hello hello INTJ llo\nsee see VERB see\nso so ADV so\nmuch much ADV uch\n"
     ]
    }
   ],
   "source": [
    "import spacy\n",
    "nlp = spacy.load(\"en_core_web_sm\")\n",
    "vocabulary = ['hello','see','so','much']\n",
    "for word in vocabulary:\n",
    "  doc = nlp(word)\n",
    "  for token in doc:\n",
    "    print(token,token.lemma_, token.pos_,token.suffix_)"
   ]
  },
  {
   "cell_type": "code",
   "execution_count": 0,
   "metadata": {
    "application/vnd.databricks.v1+cell": {
     "cellMetadata": {
      "byteLimit": 2048000,
      "rowLimit": 10000
     },
     "inputWidgets": {},
     "nuid": "ad39f49e-d339-43da-9ba3-199a94f28727",
     "showTitle": false,
     "title": ""
    }
   },
   "outputs": [
    {
     "output_type": "stream",
     "name": "stdout",
     "output_type": "stream",
     "text": [
      "[nltk_data] Downloading package punkt to /root/nltk_data...\n[nltk_data]   Unzipping tokenizers/punkt.zip.\n[nltk_data] Downloading package averaged_perceptron_tagger to\n[nltk_data]     /root/nltk_data...\n[nltk_data]   Unzipping taggers/averaged_perceptron_tagger.zip.\nOut[5]: True"
     ]
    }
   ],
   "source": [
    "nltk.download('punkt')\n",
    "nltk.download('averaged_perceptron_tagger')"
   ]
  },
  {
   "cell_type": "code",
   "execution_count": 0,
   "metadata": {
    "application/vnd.databricks.v1+cell": {
     "cellMetadata": {
      "byteLimit": 2048000,
      "rowLimit": 10000
     },
     "inputWidgets": {},
     "nuid": "cd93c705-4736-42ac-8a04-297cb1289ecf",
     "showTitle": false,
     "title": ""
    }
   },
   "outputs": [
    {
     "output_type": "stream",
     "name": "stdout",
     "output_type": "stream",
     "text": [
      "Out[6]: [('boss', 'IN'), ('bullying', 'VBG')]"
     ]
    }
   ],
   "source": [
    "from nltk.tokenize import word_tokenize\n",
    "text = word_tokenize(\"boss bullying\")\n",
    "nltk.pos_tag(text)"
   ]
  },
  {
   "cell_type": "markdown",
   "metadata": {
    "application/vnd.databricks.v1+cell": {
     "cellMetadata": {
      "byteLimit": 2048000,
      "rowLimit": 10000
     },
     "inputWidgets": {},
     "nuid": "85babeed-62da-468f-a410-9f250863dcfa",
     "showTitle": false,
     "title": ""
    }
   },
   "source": [
    "Conectamos a la Tabla"
   ]
  },
  {
   "cell_type": "code",
   "execution_count": 0,
   "metadata": {
    "application/vnd.databricks.v1+cell": {
     "cellMetadata": {
      "byteLimit": 2048000,
      "rowLimit": 10000
     },
     "inputWidgets": {},
     "nuid": "1e61a5fe-8460-480f-b48a-2d2579754e37",
     "showTitle": false,
     "title": ""
    }
   },
   "outputs": [
    {
     "output_type": "stream",
     "name": "stdout",
     "output_type": "stream",
     "text": [
      "/databricks/python/lib/python3.9/site-packages/paramiko/transport.py:236: CryptographyDeprecationWarning: Blowfish has been deprecated\n  \"class\": algorithms.Blowfish,\nlog OK\n"
     ]
    }
   ],
   "source": [
    "from NEAutils import Login\n",
    "from delta import *\n",
    "conn = Login(jefatura=\"ver\",entorno=\"perf\",spark=spark)\n",
    "conn.NeaDLSP()"
   ]
  },
  {
   "cell_type": "code",
   "execution_count": 0,
   "metadata": {
    "application/vnd.databricks.v1+cell": {
     "cellMetadata": {
      "byteLimit": 2048000,
      "rowLimit": 10000
     },
     "inputWidgets": {},
     "nuid": "4ad33fe2-1252-4768-b67e-2fdb516c95e6",
     "showTitle": false,
     "title": ""
    }
   },
   "outputs": [],
   "source": [
    "df = spark.sql(\"SELECT * FROM dwbcptp8.data_teet\")\n",
    "#dropeamos features\n",
    "coldrop = ['textID', 'selected_text']\n",
    "df = df.drop(*coldrop)"
   ]
  },
  {
   "cell_type": "code",
   "execution_count": 0,
   "metadata": {
    "application/vnd.databricks.v1+cell": {
     "cellMetadata": {
      "byteLimit": 2048000,
      "rowLimit": 10000
     },
     "inputWidgets": {},
     "nuid": "5c58d265-eafb-42fb-8b24-603adb251574",
     "showTitle": false,
     "title": ""
    }
   },
   "outputs": [
    {
     "output_type": "stream",
     "name": "stdout",
     "output_type": "stream",
     "text": [
      "+-------+--------------------+---------+\n|summary|                text|sentiment|\n+-------+--------------------+---------+\n|  count|               31013|    27481|\n|   mean|                null|     null|\n| stddev|                null|     null|\n|    min|\\tREALLY?? oh.. s...| negative|\n|    25%|                null|     null|\n|    50%|                null|     null|\n|    75%|                null|     null|\n|    max|ï¿½ï¿½h. iï¿½m go...| positive|\n+-------+--------------------+---------+\n\n"
     ]
    }
   ],
   "source": [
    "df.summary().show()"
   ]
  },
  {
   "cell_type": "markdown",
   "metadata": {
    "application/vnd.databricks.v1+cell": {
     "cellMetadata": {
      "byteLimit": 2048000,
      "rowLimit": 10000
     },
     "inputWidgets": {},
     "nuid": "4bed91f7-28ba-431a-8ea5-10f91b84dafc",
     "showTitle": false,
     "title": ""
    }
   },
   "source": [
    "Eliminaremos los registros cuyas features contengan null, en el caso del Target es el que contiene el mayor numero de nulos y en el caso del text solo es un registro."
   ]
  },
  {
   "cell_type": "code",
   "execution_count": 0,
   "metadata": {
    "application/vnd.databricks.v1+cell": {
     "cellMetadata": {
      "byteLimit": 2048000,
      "rowLimit": 10000
     },
     "inputWidgets": {},
     "nuid": "0f742ed2-ba2c-49e9-903c-b0662b188e71",
     "showTitle": false,
     "title": ""
    }
   },
   "outputs": [],
   "source": [
    "df = df.filter(F.col('sentiment').isNotNull() &  F.col('text').isNotNull())"
   ]
  },
  {
   "cell_type": "markdown",
   "metadata": {
    "application/vnd.databricks.v1+cell": {
     "cellMetadata": {
      "byteLimit": 2048000,
      "rowLimit": 10000
     },
     "inputWidgets": {},
     "nuid": "7776f531-e3bd-4107-b281-bf4b45e74447",
     "showTitle": false,
     "title": ""
    }
   },
   "source": [
    "##SCOPING\n",
    "\n",
    "El objetico es indentificar a partir de la informacion procendente del texto la tipologia del mismo. Para este proyecto se contara con tres estados: \n",
    "\n",
    "* **Neutral**\n",
    "* **Positive**\n",
    "* **Negative**"
   ]
  },
  {
   "cell_type": "code",
   "execution_count": 0,
   "metadata": {
    "application/vnd.databricks.v1+cell": {
     "cellMetadata": {
      "byteLimit": 2048000,
      "rowLimit": 10000
     },
     "inputWidgets": {},
     "nuid": "3943f31c-c4a1-42e7-b22d-aca92c88d714",
     "showTitle": false,
     "title": ""
    }
   },
   "outputs": [
    {
     "output_type": "display_data",
     "data": {
      "image/png": "[encoded data removed]"
     },
     "metadata": {
      "application/vnd.databricks.v1+output": {
       "addedWidgets": {},
       "arguments": {},
       "data": "data:image/png;base64,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\n",
       "datasetInfos": [],
       "metadata": {},
       "removedWidgets": [],
       "type": "image"
      }
     },
     "output_type": "display_data"
    }
   ],
   "source": [
    "dftarget = df.groupBy('sentiment').agg(F.count('sentiment').alias('Frecuency')).toPandas()\n",
    "_=sns.barplot(data=dftarget, x=\"sentiment\", y=\"Frecuency\")"
   ]
  },
  {
   "cell_type": "markdown",
   "metadata": {
    "application/vnd.databricks.v1+cell": {
     "cellMetadata": {
      "byteLimit": 2048000,
      "rowLimit": 10000
     },
     "inputWidgets": {},
     "nuid": "685721d9-55e6-4439-928e-d26d5763a29a",
     "showTitle": false,
     "title": ""
    }
   },
   "source": [
    "## DATA"
   ]
  },
  {
   "cell_type": "markdown",
   "metadata": {
    "application/vnd.databricks.v1+cell": {
     "cellMetadata": {
      "byteLimit": 2048000,
      "rowLimit": 10000
     },
     "inputWidgets": {},
     "nuid": "039f8bb9-06d1-4263-998a-ad0460b9791a",
     "showTitle": false,
     "title": ""
    }
   },
   "source": [
    "Se crearan funciones de spark para ir realizando la limpieza explicita de cada uno de los casos"
   ]
  },
  {
   "cell_type": "code",
   "execution_count": 0,
   "metadata": {
    "application/vnd.databricks.v1+cell": {
     "cellMetadata": {
      "byteLimit": 2048000,
      "rowLimit": 10000
     },
     "inputWidgets": {},
     "nuid": "1d4b6e85-4fd8-44a0-8c1d-e0710dc85c14",
     "showTitle": false,
     "title": ""
    }
   },
   "outputs": [],
   "source": [
    "@udf(returnType=StringType()) \n",
    "def cleantext(str):\n",
    "  \n",
    "  #Eliminamos las paginas web que haya en el texto\n",
    "  html = re.compile(r'''(?i)\\b((?:https?://|www\\d{0,3}[.]|[a-z0-9.\\-]+[.][a-z]{2,4}/)(?:[^\\s()<>]+|\\(([^\\s()<>]+|(\\([^\\s()<>]+\\)))*\\))+(?:\\(([^\\s()<>]+|(\\([^\\s()<>]+\\)))*\\)|[^\\s`!()\\[\\]{};:'\".,<>?«»“”‘’]))''')\n",
    "  str = html.sub('', str)\n",
    "\n",
    "  #Eliminaamos los signos de puntacion que contenga el texto\n",
    "  str = re.sub(r'[^\\w\\s]', '', str)\n",
    "  \n",
    "  #Eliminamos espacios por delante y por detras de\n",
    "  str = str.strip()\n",
    "  \n",
    "  #Trasnformamos los textos a minusculas\n",
    "  str = str.lower()\n",
    "  \n",
    "  #Eliminamos los numeros \n",
    "  str = re.sub(r'[0-9]+', '', str)\n",
    "    \n",
    "  return str"
   ]
  },
  {
   "cell_type": "code",
   "execution_count": 0,
   "metadata": {
    "application/vnd.databricks.v1+cell": {
     "cellMetadata": {
      "byteLimit": 2048000,
      "rowLimit": 10000
     },
     "inputWidgets": {},
     "nuid": "7df1b2e5-b3fa-4a09-97fe-e4e763c86151",
     "showTitle": false,
     "title": ""
    }
   },
   "outputs": [],
   "source": [
    "#Creamos los StopWwords para posteriormente utilizar la funcion de spark\n",
    "stops = set(stopwords.words('english'))\n",
    "stops = list(stops)"
   ]
  },
  {
   "cell_type": "code",
   "execution_count": 0,
   "metadata": {
    "application/vnd.databricks.v1+cell": {
     "cellMetadata": {
      "byteLimit": 2048000,
      "rowLimit": 10000
     },
     "inputWidgets": {},
     "nuid": "e1d15752-7fff-4f3c-9a6a-bd4813556f77",
     "showTitle": false,
     "title": ""
    }
   },
   "outputs": [],
   "source": [
    "@udf(returnType=StringType()) \n",
    "def stopwords(str):\n",
    "  \"\"\"\n",
    "  Las palabras vacías son palabras comunes dentro de las oraciones que no agregan valor y, por lo tanto, pueden eliminarse cuando se realiza una limpieza de NLP antes del análisis.\n",
    "  \"\"\"\n",
    "  str = \" \".join([value for value in str.split() if value not in (stops)])\n",
    "  return str"
   ]
  },
  {
   "cell_type": "code",
   "execution_count": 0,
   "metadata": {
    "application/vnd.databricks.v1+cell": {
     "cellMetadata": {
      "byteLimit": 2048000,
      "rowLimit": 10000
     },
     "inputWidgets": {},
     "nuid": "b440c83d-64e1-46cf-ba8f-8201f1c1465c",
     "showTitle": false,
     "title": ""
    }
   },
   "outputs": [],
   "source": [
    "@udf(returnType=StringType()) \n",
    "def cleaning_repeating_char(str):\n",
    "  \"\"\"\n",
    "  Eliminamos las consonantes que se repiten unicamente que acaben en espacio.\n",
    "  \"\"\"\n",
    "  return re.sub(r'(.)\\D\\1+', r'\\1', str)"
   ]
  },
  {
   "cell_type": "code",
   "execution_count": 0,
   "metadata": {
    "application/vnd.databricks.v1+cell": {
     "cellMetadata": {
      "byteLimit": 2048000,
      "rowLimit": 10000
     },
     "inputWidgets": {},
     "nuid": "9ff27543-52c9-4cbe-9c68-af17f96e2d95",
     "showTitle": false,
     "title": ""
    }
   },
   "outputs": [],
   "source": [
    "df = df.withColumn(\"text\", cleantext(col(\"text\")))\n",
    "df = df.withColumn(\"text\", stopwords(col(\"text\")))\n",
    "df = df.withColumn(\"text\", cleaning_repeating_char(col(\"text\")))\n"
   ]
  },
  {
   "cell_type": "markdown",
   "metadata": {
    "application/vnd.databricks.v1+cell": {
     "cellMetadata": {
      "byteLimit": 2048000,
      "rowLimit": 10000
     },
     "inputWidgets": {},
     "nuid": "153245d6-1aed-4eca-96b8-ae72ca9571e6",
     "showTitle": false,
     "title": ""
    }
   },
   "source": [
    "##PIPELINE PREPROCESADO DATOS"
   ]
  },
  {
   "cell_type": "code",
   "execution_count": 0,
   "metadata": {
    "application/vnd.databricks.v1+cell": {
     "cellMetadata": {
      "byteLimit": 2048000,
      "rowLimit": 10000
     },
     "inputWidgets": {},
     "nuid": "6bf9684c-6126-4571-add9-8ac7a345d445",
     "showTitle": false,
     "title": ""
    }
   },
   "outputs": [
    {
     "output_type": "stream",
     "name": "stdout",
     "output_type": "stream",
     "text": [
      "lemma_antbnc download started this may take some time.\nApproximate size to download 907.6 KB\n\r[ | ]\r[ / ]\r[ — ]\r[OK!]\nspellcheck_norvig download started this may take some time.\nApproximate size to download 4.2 MB\n\r[ | ]\r[ / ]\r[ — ]\r[OK!]\n"
     ]
    }
   ],
   "source": [
    "documentAssembler = DocumentAssembler()\\\n",
    "    .setInputCol(\"text\")\\\n",
    "    .setOutputCol(\"document\")\n",
    "\n",
    "tokenizer = Tokenizer() \\\n",
    "    .setInputCols([\"document\"]) \\\n",
    "    .setOutputCol(\"tokenized\")\n",
    "\n",
    "normalizer = Normalizer() \\\n",
    "     .setInputCols(['tokenized']) \\\n",
    "     .setOutputCol('normalized') \\\n",
    "     .setLowercase(True)\n",
    "\n",
    "lemmatizer = LemmatizerModel.pretrained() \\\n",
    "     .setInputCols(['normalized']) \\\n",
    "     .setOutputCol('lemmatized')\n",
    "\n",
    "spell_checker_norvig = NorvigSweetingModel.pretrained()\\\n",
    "                          .setInputCols(\"lemmatized\")\\\n",
    "                          .setOutputCol(\"correct\")\n",
    "\n",
    "pipeline_pre = Pipeline() \\\n",
    "         .setStages([documentAssembler,\n",
    "                 tokenizer,\n",
    "                 normalizer,\n",
    "                 lemmatizer,\n",
    "                 spell_checker_norvig,\n",
    "                    ])\n",
    "\n",
    "empty_df_pre = spark.createDataFrame([['']]).toDF(\"text\")\n",
    "pipelineModel_pre = pipeline_pre.fit(empty_df_pre)\n",
    "df2 = pipelineModel_pre.transform(df)\n",
    "df2 = df2.select('correct.result','sentiment')\n",
    "df2 = df2.withColumnRenamed('result','text')\n",
    "df2 = df2.withColumn('text', F.concat_ws(' ', 'text'))"
   ]
  },
  {
   "cell_type": "markdown",
   "metadata": {
    "application/vnd.databricks.v1+cell": {
     "cellMetadata": {
      "byteLimit": 2048000,
      "rowLimit": 10000
     },
     "inputWidgets": {},
     "nuid": "6f45812b-4487-46a4-a9c5-a9ceddb83417",
     "showTitle": false,
     "title": ""
    }
   },
   "source": [
    "##PIPELINE NGRAMS"
   ]
  },
  {
   "cell_type": "code",
   "execution_count": 0,
   "metadata": {
    "application/vnd.databricks.v1+cell": {
     "cellMetadata": {
      "byteLimit": 2048000,
      "rowLimit": 10000
     },
     "inputWidgets": {},
     "nuid": "55c676ae-e522-41f6-a369-fa58bfee8948",
     "showTitle": false,
     "title": ""
    }
   },
   "outputs": [
    {
     "output_type": "stream",
     "name": "stdout",
     "output_type": "stream",
     "text": [
      "pos_anc download started this may take some time.\nApproximate size to download 3.9 MB\n\r[ | ]\r[ / ]\r[ — ]\r[OK!]\n"
     ]
    }
   ],
   "source": [
    "documentAssembler = DocumentAssembler()\\\n",
    "    .setInputCol(\"text\")\\\n",
    "    .setOutputCol(\"document\")\n",
    "\n",
    "tokenizer = Tokenizer() \\\n",
    "    .setInputCols([\"document\"]) \\\n",
    "    .setOutputCol(\"tokenized\")\n",
    "\n",
    "pos_tagger = PerceptronModel.pretrained('pos_anc') \\\n",
    "     .setInputCols(['document', 'tokenized']) \\\n",
    "     .setOutputCol('pos')\n",
    "\n",
    "#allowed_tags = ['<JJ>+<NN>','<NN>+<JJ>', '<NN>+<NN>','<JJ>+<JJ>','<RB>+<JJ>','<NN>+<VBG>', '<NN>+<VBP>+<RB>','<NN>+<RB>']\n",
    "allowed_tags = ['<JJ>','<NN>+<JJ>', '<NN>+<NN>','<JJ>+<JJ>','<RB>+<JJ>','<NN>+<VBG>', '<NN>+<VBP>+<RB>','<NN>+<RB>']\n",
    "#allowed_tags = ['<JJ>+<NN>','<RB>+<JJ>', '<IN>+<VBG>']\n",
    "chunker = Chunker() \\\n",
    "     .setInputCols(['document', 'pos']) \\\n",
    "     .setOutputCol('ngrams') \\\n",
    "     .setRegexParsers(allowed_tags)\n",
    "\n",
    "finisher = Finisher() \\\n",
    "     .setInputCols(['ngrams'])\n",
    "\n",
    "pipeline = Pipeline() \\\n",
    "         .setStages([documentAssembler,\n",
    "                     tokenizer,\n",
    "                     pos_tagger,\n",
    "                     chunker,\n",
    "                      finisher])\n",
    "\n",
    "empty_df = spark.createDataFrame([['']]).toDF(\"text\")\n",
    "\n",
    "pipelineModel = pipeline.fit(empty_df)\n",
    "result = pipelineModel.transform(df2)"
   ]
  },
  {
   "cell_type": "code",
   "execution_count": 0,
   "metadata": {
    "application/vnd.databricks.v1+cell": {
     "cellMetadata": {
      "byteLimit": 2048000,
      "rowLimit": 10000
     },
     "inputWidgets": {},
     "nuid": "09412ccf-9ec3-49f4-b826-62f56a47a456",
     "showTitle": false,
     "title": ""
    }
   },
   "outputs": [],
   "source": [
    "#Dropeamos los elementos vacios, estos vacios se ocasiona debido al procesado y filtrado que hay en el pipline\n",
    "result = result.withColumn(\"size\", F.size(F.col('finished_ngrams')))\n",
    "#Filtramos unicamente los valores que no esten vacios\n",
    "result = result.filter(F.col(\"size\") >= 1)\n",
    "final = result.select(['sentiment', 'finished_ngrams'])"
   ]
  },
  {
   "cell_type": "markdown",
   "metadata": {
    "application/vnd.databricks.v1+cell": {
     "cellMetadata": {
      "byteLimit": 2048000,
      "rowLimit": 10000
     },
     "inputWidgets": {},
     "nuid": "6bd4b150-4121-4950-bc1d-dbf2715c0275",
     "showTitle": false,
     "title": ""
    }
   },
   "source": [
    "##PIPELINE COUNTVECTORIZER Y VECTORIZACION"
   ]
  },
  {
   "cell_type": "code",
   "execution_count": 0,
   "metadata": {
    "application/vnd.databricks.v1+cell": {
     "cellMetadata": {
      "byteLimit": 2048000,
      "rowLimit": 10000
     },
     "inputWidgets": {},
     "nuid": "0d06300f-c2f4-4bf1-9d26-0cc150b0aa20",
     "showTitle": false,
     "title": ""
    }
   },
   "outputs": [],
   "source": [
    "tfizer = CountVectorizer(inputCol='finished_ngrams',\n",
    "                         outputCol='tf_features')\n",
    "\n",
    "idfizer = IDF(inputCol='tf_features', \n",
    "              outputCol='features')\n",
    "\n",
    "label_stringIdx = StringIndexer(inputCol = \"sentiment\",\n",
    "                                outputCol = \"label\")\n",
    "\n",
    "pipeline_countvect = Pipeline() \\\n",
    "         .setStages([tfizer,\n",
    "                     idfizer,\n",
    "                     label_stringIdx])\n",
    "\n",
    "pipeline_countvectModel = pipeline_countvect.fit(final)\n",
    "resultcontvect = pipeline_countvectModel.transform(final)\n"
   ]
  },
  {
   "cell_type": "markdown",
   "metadata": {
    "application/vnd.databricks.v1+cell": {
     "cellMetadata": {
      "byteLimit": 2048000,
      "rowLimit": 10000
     },
     "inputWidgets": {},
     "nuid": "f46074f3-f6ad-4b27-8c1c-3f2ba0d9e184",
     "showTitle": false,
     "title": ""
    }
   },
   "source": [
    "##MODELO MACHINE LEARNING"
   ]
  },
  {
   "cell_type": "markdown",
   "metadata": {
    "application/vnd.databricks.v1+cell": {
     "cellMetadata": {
      "byteLimit": 2048000,
      "rowLimit": 10000
     },
     "inputWidgets": {},
     "nuid": "dc3f0d82-8e79-4de2-a49e-37e2a0bba5fa",
     "showTitle": false,
     "title": ""
    }
   },
   "source": [
    "Seleccionamos las Features para el Modelo"
   ]
  },
  {
   "cell_type": "code",
   "execution_count": 0,
   "metadata": {
    "application/vnd.databricks.v1+cell": {
     "cellMetadata": {
      "byteLimit": 2048000,
      "rowLimit": 10000
     },
     "inputWidgets": {},
     "nuid": "2ea87b12-9a72-4138-bf2f-ccfca109c086",
     "showTitle": false,
     "title": ""
    }
   },
   "outputs": [],
   "source": [
    "fianl_label = resultcontvect.select('features','label')"
   ]
  },
  {
   "cell_type": "markdown",
   "metadata": {
    "application/vnd.databricks.v1+cell": {
     "cellMetadata": {
      "byteLimit": 2048000,
      "rowLimit": 10000
     },
     "inputWidgets": {},
     "nuid": "f9b13800-d4d0-452c-b7ec-7baf247f7e3f",
     "showTitle": false,
     "title": ""
    }
   },
   "source": [
    "Realizamos el split en train/test/val"
   ]
  },
  {
   "cell_type": "code",
   "execution_count": 0,
   "metadata": {
    "application/vnd.databricks.v1+cell": {
     "cellMetadata": {
      "byteLimit": 2048000,
      "rowLimit": 10000
     },
     "inputWidgets": {},
     "nuid": "fa2c026b-3df0-453b-9d42-73a6db04d425",
     "showTitle": false,
     "title": ""
    }
   },
   "outputs": [],
   "source": [
    "(train_df, val_df, test_df) = fianl_label.randomSplit([0.98, 0.01, 0.01], seed = 2000)"
   ]
  },
  {
   "cell_type": "markdown",
   "metadata": {
    "application/vnd.databricks.v1+cell": {
     "cellMetadata": {
      "byteLimit": 2048000,
      "rowLimit": 10000
     },
     "inputWidgets": {},
     "nuid": "e9252f44-0562-44b8-91b8-e418cdafebb3",
     "showTitle": false,
     "title": ""
    }
   },
   "source": [
    "Train del Modelo"
   ]
  },
  {
   "cell_type": "code",
   "execution_count": 0,
   "metadata": {
    "application/vnd.databricks.v1+cell": {
     "cellMetadata": {
      "byteLimit": 2048000,
      "rowLimit": 10000
     },
     "inputWidgets": {},
     "nuid": "93e34b6d-8fa5-4dad-9d1a-71ec12aaed6b",
     "showTitle": false,
     "title": ""
    }
   },
   "outputs": [],
   "source": [
    "\n",
    "lr = LogisticRegression(maxIter=100)\n",
    "lrModel = lr.fit(train_df)\n",
    "predictions = lrModel.transform(val_df)"
   ]
  },
  {
   "cell_type": "markdown",
   "metadata": {
    "application/vnd.databricks.v1+cell": {
     "cellMetadata": {
      "byteLimit": 2048000,
      "rowLimit": 10000
     },
     "inputWidgets": {},
     "nuid": "64cbfb0e-1663-46bd-9fcb-86428cc483a6",
     "showTitle": false,
     "title": ""
    }
   },
   "source": [
    "##VALIDACION MODELO"
   ]
  },
  {
   "cell_type": "code",
   "execution_count": 0,
   "metadata": {
    "application/vnd.databricks.v1+cell": {
     "cellMetadata": {
      "byteLimit": 2048000,
      "rowLimit": 10000
     },
     "inputWidgets": {},
     "nuid": "9da2027a-c422-4f1f-b50a-1c7774cb428d",
     "showTitle": false,
     "title": ""
    }
   },
   "outputs": [
    {
     "output_type": "stream",
     "name": "stdout",
     "output_type": "stream",
     "text": [
      "F1 Score = 0.939861\n"
     ]
    }
   ],
   "source": [
    "evaluator = MulticlassClassificationEvaluator(\n",
    "      labelCol=\"label\", predictionCol=\"prediction\", metricName=\"f1\")\n",
    "f1 = evaluator.evaluate(predictions)\n",
    "print(\"F1 Score = %g\" % (f1))"
   ]
  },
  {
   "cell_type": "code",
   "execution_count": 0,
   "metadata": {
    "application/vnd.databricks.v1+cell": {
     "cellMetadata": {
      "byteLimit": 2048000,
      "rowLimit": 10000
     },
     "inputWidgets": {},
     "nuid": "cce7b3ee-4a5f-4cfb-8481-30f606dab991",
     "showTitle": false,
     "title": ""
    }
   },
   "outputs": [
    {
     "output_type": "stream",
     "name": "stdout",
     "output_type": "stream",
     "text": [
      "+-----+-------------------------------------------------------------+----------+\n|label|rawPrediction                                                |prediction|\n+-----+-------------------------------------------------------------+----------+\n|0.0  |[0.5057879817995994,-0.2930323773074897,-0.21275560449210965]|0.0       |\n|1.0  |[0.5057879817995994,-0.2930323773074897,-0.21275560449210965]|0.0       |\n|0.0  |[26.177556157947592,-21.892237711900727,-4.285318446046857]  |0.0       |\n|1.0  |[-5.345545505717367,8.003912159394654,-2.658366653677286]    |1.0       |\n|0.0  |[1.042051893779275,5.52681586196474,-6.568867755744012]      |1.0       |\n|0.0  |[11.771247559078805,0.15118469667206264,-11.922432255750863] |0.0       |\n|0.0  |[11.310376243024411,-1.8384551502458237,-9.471921092778587]  |0.0       |\n|1.0  |[-2.5443835477786525,7.176063389229619,-4.631679841450968]   |1.0       |\n|1.0  |[-4.96294740785175,13.170557376386922,-8.20760996853517]     |1.0       |\n|1.0  |[-5.028747315839648,7.474684259835386,-2.4459369439957386]   |1.0       |\n|1.0  |[-0.9935400307694751,5.101676300430989,-4.108136269661514]   |1.0       |\n|2.0  |[-6.2493092085566095,-2.6301590145702565,8.879468223126866]  |2.0       |\n|1.0  |[-5.0043615847208525,8.527660579708646,-3.5232989949877958]  |1.0       |\n|1.0  |[-5.432195438036574,9.289304159212662,-3.8571087211760875]   |1.0       |\n|1.0  |[-5.051392524083365,9.043618512498934,-3.992225988415571]    |1.0       |\n|0.0  |[11.507962274044303,-6.227722374575478,-5.280239899468824]   |0.0       |\n|0.0  |[10.422204138752466,-5.559737088151027,-4.862467050601439]   |0.0       |\n|2.0  |[-4.218482522089119,-5.407882382050249,9.626364904139368]    |2.0       |\n|1.0  |[-1.9739291920125972,3.483535782222509,-1.5096065902099118]  |1.0       |\n|1.0  |[-4.575004469866905,7.948236009646323,-3.373231539779418]    |1.0       |\n+-----+-------------------------------------------------------------+----------+\nonly showing top 20 rows\n\n"
     ]
    }
   ],
   "source": [
    "predictions['label','rawPrediction','prediction'].show(truncate=False)"
   ]
  }
 ],
 "metadata": {
  "application/vnd.databricks.v1+notebook": {
   "dashboards": [],
   "language": "python",
   "notebookMetadata": {
    "pythonIndentUnit": 2
   },
   "notebookName": "01_Analisis",
   "widgets": {}
  }
 },
 "nbformat": 4,
 "nbformat_minor": 0
}
